{
 "cells": [
  {
   "cell_type": "code",
   "execution_count": 127,
   "metadata": {
    "collapsed": true
   },
   "outputs": [],
   "source": [
    "import pandas as pd\n",
    "import numpy as np\n",
    "import os\n",
    "import matplotlib.pyplot as plt\n",
    "import time\n",
    "\n"
   ]
  },
  {
   "cell_type": "code",
   "execution_count": 128,
   "outputs": [
    {
     "data": {
      "text/plain": "       Unnamed: 0 stat                 time       ssboe      into      inth   \n0               0   Ok  29-03-2023 15:32:08  1680084128  17080.70  17080.70  \\\n1               1   Ok  29-03-2023 15:31:14  1680084074  17117.70  17117.70   \n2               2   Ok  29-03-2023 15:29:00  1680083940  17115.30  17121.50   \n3               3   Ok  29-03-2023 15:28:00  1680083880  17123.70  17125.90   \n4               4   Ok  29-03-2023 15:27:00  1680083820  17116.00  17123.90   \n...           ...  ...                  ...         ...       ...       ...   \n16256       16256   Ok  30-01-2023 09:04:00  1675049640  17536.95  17536.95   \n16257       16257   Ok  30-01-2023 09:03:00  1675049580  17600.05  17601.60   \n16258       16258   Ok  30-01-2023 09:02:00  1675049520  17594.40  17615.20   \n16259       16259   Ok  30-01-2023 09:01:00  1675049460  17589.70  17599.60   \n16260       16260   Ok  30-01-2023 09:00:00  1675049400  17562.15  17642.75   \n\n           intl      intc  intvwap  intv  intoi  v  oi  \n0      17080.70  17080.70      0.0     0      0  0   0  \n1      17117.70  17117.70      0.0     0      0  0   0  \n2      17106.35  17115.55      0.0     0      0  0   0  \n3      17113.75  17117.35      0.0     0      0  0   0  \n4      17113.05  17122.65      0.0     0      0  0   0  \n...         ...       ...      ...   ...    ... ..  ..  \n16256  17513.55  17536.35      0.0     0      0  0   0  \n16257  17536.15  17536.70      0.0     0      0  0   0  \n16258  17594.40  17599.55      0.0     0      0  0   0  \n16259  17510.50  17595.35      0.0     0      0  0   0  \n16260  17539.60  17596.60      0.0     0      0  0   0  \n\n[16261 rows x 13 columns]",
      "text/html": "<div>\n<style scoped>\n    .dataframe tbody tr th:only-of-type {\n        vertical-align: middle;\n    }\n\n    .dataframe tbody tr th {\n        vertical-align: top;\n    }\n\n    .dataframe thead th {\n        text-align: right;\n    }\n</style>\n<table border=\"1\" class=\"dataframe\">\n  <thead>\n    <tr style=\"text-align: right;\">\n      <th></th>\n      <th>Unnamed: 0</th>\n      <th>stat</th>\n      <th>time</th>\n      <th>ssboe</th>\n      <th>into</th>\n      <th>inth</th>\n      <th>intl</th>\n      <th>intc</th>\n      <th>intvwap</th>\n      <th>intv</th>\n      <th>intoi</th>\n      <th>v</th>\n      <th>oi</th>\n    </tr>\n  </thead>\n  <tbody>\n    <tr>\n      <th>0</th>\n      <td>0</td>\n      <td>Ok</td>\n      <td>29-03-2023 15:32:08</td>\n      <td>1680084128</td>\n      <td>17080.70</td>\n      <td>17080.70</td>\n      <td>17080.70</td>\n      <td>17080.70</td>\n      <td>0.0</td>\n      <td>0</td>\n      <td>0</td>\n      <td>0</td>\n      <td>0</td>\n    </tr>\n    <tr>\n      <th>1</th>\n      <td>1</td>\n      <td>Ok</td>\n      <td>29-03-2023 15:31:14</td>\n      <td>1680084074</td>\n      <td>17117.70</td>\n      <td>17117.70</td>\n      <td>17117.70</td>\n      <td>17117.70</td>\n      <td>0.0</td>\n      <td>0</td>\n      <td>0</td>\n      <td>0</td>\n      <td>0</td>\n    </tr>\n    <tr>\n      <th>2</th>\n      <td>2</td>\n      <td>Ok</td>\n      <td>29-03-2023 15:29:00</td>\n      <td>1680083940</td>\n      <td>17115.30</td>\n      <td>17121.50</td>\n      <td>17106.35</td>\n      <td>17115.55</td>\n      <td>0.0</td>\n      <td>0</td>\n      <td>0</td>\n      <td>0</td>\n      <td>0</td>\n    </tr>\n    <tr>\n      <th>3</th>\n      <td>3</td>\n      <td>Ok</td>\n      <td>29-03-2023 15:28:00</td>\n      <td>1680083880</td>\n      <td>17123.70</td>\n      <td>17125.90</td>\n      <td>17113.75</td>\n      <td>17117.35</td>\n      <td>0.0</td>\n      <td>0</td>\n      <td>0</td>\n      <td>0</td>\n      <td>0</td>\n    </tr>\n    <tr>\n      <th>4</th>\n      <td>4</td>\n      <td>Ok</td>\n      <td>29-03-2023 15:27:00</td>\n      <td>1680083820</td>\n      <td>17116.00</td>\n      <td>17123.90</td>\n      <td>17113.05</td>\n      <td>17122.65</td>\n      <td>0.0</td>\n      <td>0</td>\n      <td>0</td>\n      <td>0</td>\n      <td>0</td>\n    </tr>\n    <tr>\n      <th>...</th>\n      <td>...</td>\n      <td>...</td>\n      <td>...</td>\n      <td>...</td>\n      <td>...</td>\n      <td>...</td>\n      <td>...</td>\n      <td>...</td>\n      <td>...</td>\n      <td>...</td>\n      <td>...</td>\n      <td>...</td>\n      <td>...</td>\n    </tr>\n    <tr>\n      <th>16256</th>\n      <td>16256</td>\n      <td>Ok</td>\n      <td>30-01-2023 09:04:00</td>\n      <td>1675049640</td>\n      <td>17536.95</td>\n      <td>17536.95</td>\n      <td>17513.55</td>\n      <td>17536.35</td>\n      <td>0.0</td>\n      <td>0</td>\n      <td>0</td>\n      <td>0</td>\n      <td>0</td>\n    </tr>\n    <tr>\n      <th>16257</th>\n      <td>16257</td>\n      <td>Ok</td>\n      <td>30-01-2023 09:03:00</td>\n      <td>1675049580</td>\n      <td>17600.05</td>\n      <td>17601.60</td>\n      <td>17536.15</td>\n      <td>17536.70</td>\n      <td>0.0</td>\n      <td>0</td>\n      <td>0</td>\n      <td>0</td>\n      <td>0</td>\n    </tr>\n    <tr>\n      <th>16258</th>\n      <td>16258</td>\n      <td>Ok</td>\n      <td>30-01-2023 09:02:00</td>\n      <td>1675049520</td>\n      <td>17594.40</td>\n      <td>17615.20</td>\n      <td>17594.40</td>\n      <td>17599.55</td>\n      <td>0.0</td>\n      <td>0</td>\n      <td>0</td>\n      <td>0</td>\n      <td>0</td>\n    </tr>\n    <tr>\n      <th>16259</th>\n      <td>16259</td>\n      <td>Ok</td>\n      <td>30-01-2023 09:01:00</td>\n      <td>1675049460</td>\n      <td>17589.70</td>\n      <td>17599.60</td>\n      <td>17510.50</td>\n      <td>17595.35</td>\n      <td>0.0</td>\n      <td>0</td>\n      <td>0</td>\n      <td>0</td>\n      <td>0</td>\n    </tr>\n    <tr>\n      <th>16260</th>\n      <td>16260</td>\n      <td>Ok</td>\n      <td>30-01-2023 09:00:00</td>\n      <td>1675049400</td>\n      <td>17562.15</td>\n      <td>17642.75</td>\n      <td>17539.60</td>\n      <td>17596.60</td>\n      <td>0.0</td>\n      <td>0</td>\n      <td>0</td>\n      <td>0</td>\n      <td>0</td>\n    </tr>\n  </tbody>\n</table>\n<p>16261 rows × 13 columns</p>\n</div>"
     },
     "execution_count": 128,
     "metadata": {},
     "output_type": "execute_result"
    }
   ],
   "source": [
    "nif = pd.read_csv(\"sample.csv\")\n",
    "nif"
   ],
   "metadata": {
    "collapsed": false
   }
  },
  {
   "cell_type": "code",
   "execution_count": 129,
   "outputs": [
    {
     "name": "stdout",
     "output_type": "stream",
     "text": [
      "<class 'pandas.core.frame.DataFrame'>\n",
      "RangeIndex: 16261 entries, 0 to 16260\n",
      "Data columns (total 13 columns):\n",
      " #   Column      Non-Null Count  Dtype  \n",
      "---  ------      --------------  -----  \n",
      " 0   Unnamed: 0  16261 non-null  int64  \n",
      " 1   stat        16261 non-null  object \n",
      " 2   time        16261 non-null  object \n",
      " 3   ssboe       16261 non-null  int64  \n",
      " 4   into        16261 non-null  float64\n",
      " 5   inth        16261 non-null  float64\n",
      " 6   intl        16261 non-null  float64\n",
      " 7   intc        16261 non-null  float64\n",
      " 8   intvwap     16261 non-null  float64\n",
      " 9   intv        16261 non-null  int64  \n",
      " 10  intoi       16261 non-null  int64  \n",
      " 11  v           16261 non-null  int64  \n",
      " 12  oi          16261 non-null  int64  \n",
      "dtypes: float64(5), int64(6), object(2)\n",
      "memory usage: 1.6+ MB\n"
     ]
    }
   ],
   "source": [
    "nif.info()"
   ],
   "metadata": {
    "collapsed": false
   }
  },
  {
   "cell_type": "code",
   "execution_count": 130,
   "outputs": [],
   "source": [
    "nif.set_index(\"time\" , drop = True, inplace = True)"
   ],
   "metadata": {
    "collapsed": false
   }
  },
  {
   "cell_type": "code",
   "execution_count": 131,
   "outputs": [
    {
     "data": {
      "text/plain": "                     Unnamed: 0 stat       ssboe      into      inth   \ntime                                                                   \n29-03-2023 15:32:08           0   Ok  1680084128  17080.70  17080.70  \\\n29-03-2023 15:31:14           1   Ok  1680084074  17117.70  17117.70   \n29-03-2023 15:29:00           2   Ok  1680083940  17115.30  17121.50   \n29-03-2023 15:28:00           3   Ok  1680083880  17123.70  17125.90   \n29-03-2023 15:27:00           4   Ok  1680083820  17116.00  17123.90   \n...                         ...  ...         ...       ...       ...   \n30-01-2023 09:04:00       16256   Ok  1675049640  17536.95  17536.95   \n30-01-2023 09:03:00       16257   Ok  1675049580  17600.05  17601.60   \n30-01-2023 09:02:00       16258   Ok  1675049520  17594.40  17615.20   \n30-01-2023 09:01:00       16259   Ok  1675049460  17589.70  17599.60   \n30-01-2023 09:00:00       16260   Ok  1675049400  17562.15  17642.75   \n\n                         intl      intc  intvwap  intv  intoi  v  oi  \ntime                                                                  \n29-03-2023 15:32:08  17080.70  17080.70      0.0     0      0  0   0  \n29-03-2023 15:31:14  17117.70  17117.70      0.0     0      0  0   0  \n29-03-2023 15:29:00  17106.35  17115.55      0.0     0      0  0   0  \n29-03-2023 15:28:00  17113.75  17117.35      0.0     0      0  0   0  \n29-03-2023 15:27:00  17113.05  17122.65      0.0     0      0  0   0  \n...                       ...       ...      ...   ...    ... ..  ..  \n30-01-2023 09:04:00  17513.55  17536.35      0.0     0      0  0   0  \n30-01-2023 09:03:00  17536.15  17536.70      0.0     0      0  0   0  \n30-01-2023 09:02:00  17594.40  17599.55      0.0     0      0  0   0  \n30-01-2023 09:01:00  17510.50  17595.35      0.0     0      0  0   0  \n30-01-2023 09:00:00  17539.60  17596.60      0.0     0      0  0   0  \n\n[16261 rows x 12 columns]",
      "text/html": "<div>\n<style scoped>\n    .dataframe tbody tr th:only-of-type {\n        vertical-align: middle;\n    }\n\n    .dataframe tbody tr th {\n        vertical-align: top;\n    }\n\n    .dataframe thead th {\n        text-align: right;\n    }\n</style>\n<table border=\"1\" class=\"dataframe\">\n  <thead>\n    <tr style=\"text-align: right;\">\n      <th></th>\n      <th>Unnamed: 0</th>\n      <th>stat</th>\n      <th>ssboe</th>\n      <th>into</th>\n      <th>inth</th>\n      <th>intl</th>\n      <th>intc</th>\n      <th>intvwap</th>\n      <th>intv</th>\n      <th>intoi</th>\n      <th>v</th>\n      <th>oi</th>\n    </tr>\n    <tr>\n      <th>time</th>\n      <th></th>\n      <th></th>\n      <th></th>\n      <th></th>\n      <th></th>\n      <th></th>\n      <th></th>\n      <th></th>\n      <th></th>\n      <th></th>\n      <th></th>\n      <th></th>\n    </tr>\n  </thead>\n  <tbody>\n    <tr>\n      <th>29-03-2023 15:32:08</th>\n      <td>0</td>\n      <td>Ok</td>\n      <td>1680084128</td>\n      <td>17080.70</td>\n      <td>17080.70</td>\n      <td>17080.70</td>\n      <td>17080.70</td>\n      <td>0.0</td>\n      <td>0</td>\n      <td>0</td>\n      <td>0</td>\n      <td>0</td>\n    </tr>\n    <tr>\n      <th>29-03-2023 15:31:14</th>\n      <td>1</td>\n      <td>Ok</td>\n      <td>1680084074</td>\n      <td>17117.70</td>\n      <td>17117.70</td>\n      <td>17117.70</td>\n      <td>17117.70</td>\n      <td>0.0</td>\n      <td>0</td>\n      <td>0</td>\n      <td>0</td>\n      <td>0</td>\n    </tr>\n    <tr>\n      <th>29-03-2023 15:29:00</th>\n      <td>2</td>\n      <td>Ok</td>\n      <td>1680083940</td>\n      <td>17115.30</td>\n      <td>17121.50</td>\n      <td>17106.35</td>\n      <td>17115.55</td>\n      <td>0.0</td>\n      <td>0</td>\n      <td>0</td>\n      <td>0</td>\n      <td>0</td>\n    </tr>\n    <tr>\n      <th>29-03-2023 15:28:00</th>\n      <td>3</td>\n      <td>Ok</td>\n      <td>1680083880</td>\n      <td>17123.70</td>\n      <td>17125.90</td>\n      <td>17113.75</td>\n      <td>17117.35</td>\n      <td>0.0</td>\n      <td>0</td>\n      <td>0</td>\n      <td>0</td>\n      <td>0</td>\n    </tr>\n    <tr>\n      <th>29-03-2023 15:27:00</th>\n      <td>4</td>\n      <td>Ok</td>\n      <td>1680083820</td>\n      <td>17116.00</td>\n      <td>17123.90</td>\n      <td>17113.05</td>\n      <td>17122.65</td>\n      <td>0.0</td>\n      <td>0</td>\n      <td>0</td>\n      <td>0</td>\n      <td>0</td>\n    </tr>\n    <tr>\n      <th>...</th>\n      <td>...</td>\n      <td>...</td>\n      <td>...</td>\n      <td>...</td>\n      <td>...</td>\n      <td>...</td>\n      <td>...</td>\n      <td>...</td>\n      <td>...</td>\n      <td>...</td>\n      <td>...</td>\n      <td>...</td>\n    </tr>\n    <tr>\n      <th>30-01-2023 09:04:00</th>\n      <td>16256</td>\n      <td>Ok</td>\n      <td>1675049640</td>\n      <td>17536.95</td>\n      <td>17536.95</td>\n      <td>17513.55</td>\n      <td>17536.35</td>\n      <td>0.0</td>\n      <td>0</td>\n      <td>0</td>\n      <td>0</td>\n      <td>0</td>\n    </tr>\n    <tr>\n      <th>30-01-2023 09:03:00</th>\n      <td>16257</td>\n      <td>Ok</td>\n      <td>1675049580</td>\n      <td>17600.05</td>\n      <td>17601.60</td>\n      <td>17536.15</td>\n      <td>17536.70</td>\n      <td>0.0</td>\n      <td>0</td>\n      <td>0</td>\n      <td>0</td>\n      <td>0</td>\n    </tr>\n    <tr>\n      <th>30-01-2023 09:02:00</th>\n      <td>16258</td>\n      <td>Ok</td>\n      <td>1675049520</td>\n      <td>17594.40</td>\n      <td>17615.20</td>\n      <td>17594.40</td>\n      <td>17599.55</td>\n      <td>0.0</td>\n      <td>0</td>\n      <td>0</td>\n      <td>0</td>\n      <td>0</td>\n    </tr>\n    <tr>\n      <th>30-01-2023 09:01:00</th>\n      <td>16259</td>\n      <td>Ok</td>\n      <td>1675049460</td>\n      <td>17589.70</td>\n      <td>17599.60</td>\n      <td>17510.50</td>\n      <td>17595.35</td>\n      <td>0.0</td>\n      <td>0</td>\n      <td>0</td>\n      <td>0</td>\n      <td>0</td>\n    </tr>\n    <tr>\n      <th>30-01-2023 09:00:00</th>\n      <td>16260</td>\n      <td>Ok</td>\n      <td>1675049400</td>\n      <td>17562.15</td>\n      <td>17642.75</td>\n      <td>17539.60</td>\n      <td>17596.60</td>\n      <td>0.0</td>\n      <td>0</td>\n      <td>0</td>\n      <td>0</td>\n      <td>0</td>\n    </tr>\n  </tbody>\n</table>\n<p>16261 rows × 12 columns</p>\n</div>"
     },
     "execution_count": 131,
     "metadata": {},
     "output_type": "execute_result"
    }
   ],
   "source": [
    "nif"
   ],
   "metadata": {
    "collapsed": false
   }
  },
  {
   "cell_type": "code",
   "execution_count": 132,
   "outputs": [],
   "source": [
    "nif = nif[[\"intc\"]]"
   ],
   "metadata": {
    "collapsed": false
   }
  },
  {
   "cell_type": "code",
   "execution_count": 133,
   "outputs": [
    {
     "data": {
      "text/plain": "                         intc\ntime                         \n29-03-2023 15:32:08  17080.70\n29-03-2023 15:31:14  17117.70\n29-03-2023 15:29:00  17115.55\n29-03-2023 15:28:00  17117.35\n29-03-2023 15:27:00  17122.65\n...                       ...\n30-01-2023 09:04:00  17536.35\n30-01-2023 09:03:00  17536.70\n30-01-2023 09:02:00  17599.55\n30-01-2023 09:01:00  17595.35\n30-01-2023 09:00:00  17596.60\n\n[16261 rows x 1 columns]",
      "text/html": "<div>\n<style scoped>\n    .dataframe tbody tr th:only-of-type {\n        vertical-align: middle;\n    }\n\n    .dataframe tbody tr th {\n        vertical-align: top;\n    }\n\n    .dataframe thead th {\n        text-align: right;\n    }\n</style>\n<table border=\"1\" class=\"dataframe\">\n  <thead>\n    <tr style=\"text-align: right;\">\n      <th></th>\n      <th>intc</th>\n    </tr>\n    <tr>\n      <th>time</th>\n      <th></th>\n    </tr>\n  </thead>\n  <tbody>\n    <tr>\n      <th>29-03-2023 15:32:08</th>\n      <td>17080.70</td>\n    </tr>\n    <tr>\n      <th>29-03-2023 15:31:14</th>\n      <td>17117.70</td>\n    </tr>\n    <tr>\n      <th>29-03-2023 15:29:00</th>\n      <td>17115.55</td>\n    </tr>\n    <tr>\n      <th>29-03-2023 15:28:00</th>\n      <td>17117.35</td>\n    </tr>\n    <tr>\n      <th>29-03-2023 15:27:00</th>\n      <td>17122.65</td>\n    </tr>\n    <tr>\n      <th>...</th>\n      <td>...</td>\n    </tr>\n    <tr>\n      <th>30-01-2023 09:04:00</th>\n      <td>17536.35</td>\n    </tr>\n    <tr>\n      <th>30-01-2023 09:03:00</th>\n      <td>17536.70</td>\n    </tr>\n    <tr>\n      <th>30-01-2023 09:02:00</th>\n      <td>17599.55</td>\n    </tr>\n    <tr>\n      <th>30-01-2023 09:01:00</th>\n      <td>17595.35</td>\n    </tr>\n    <tr>\n      <th>30-01-2023 09:00:00</th>\n      <td>17596.60</td>\n    </tr>\n  </tbody>\n</table>\n<p>16261 rows × 1 columns</p>\n</div>"
     },
     "execution_count": 133,
     "metadata": {},
     "output_type": "execute_result"
    }
   ],
   "source": [
    "nif"
   ],
   "metadata": {
    "collapsed": false
   }
  },
  {
   "cell_type": "code",
   "execution_count": 134,
   "outputs": [
    {
     "data": {
      "text/plain": "               intc\ncount  16261.000000\nmean   17492.489275\nstd      340.081254\nmin    16743.950000\n25%    17139.250000\n50%    17560.950000\n75%    17775.850000\nmax    18131.650000",
      "text/html": "<div>\n<style scoped>\n    .dataframe tbody tr th:only-of-type {\n        vertical-align: middle;\n    }\n\n    .dataframe tbody tr th {\n        vertical-align: top;\n    }\n\n    .dataframe thead th {\n        text-align: right;\n    }\n</style>\n<table border=\"1\" class=\"dataframe\">\n  <thead>\n    <tr style=\"text-align: right;\">\n      <th></th>\n      <th>intc</th>\n    </tr>\n  </thead>\n  <tbody>\n    <tr>\n      <th>count</th>\n      <td>16261.000000</td>\n    </tr>\n    <tr>\n      <th>mean</th>\n      <td>17492.489275</td>\n    </tr>\n    <tr>\n      <th>std</th>\n      <td>340.081254</td>\n    </tr>\n    <tr>\n      <th>min</th>\n      <td>16743.950000</td>\n    </tr>\n    <tr>\n      <th>25%</th>\n      <td>17139.250000</td>\n    </tr>\n    <tr>\n      <th>50%</th>\n      <td>17560.950000</td>\n    </tr>\n    <tr>\n      <th>75%</th>\n      <td>17775.850000</td>\n    </tr>\n    <tr>\n      <th>max</th>\n      <td>18131.650000</td>\n    </tr>\n  </tbody>\n</table>\n</div>"
     },
     "execution_count": 134,
     "metadata": {},
     "output_type": "execute_result"
    }
   ],
   "source": [
    "nif.describe()"
   ],
   "metadata": {
    "collapsed": false
   }
  },
  {
   "cell_type": "code",
   "execution_count": 135,
   "outputs": [
    {
     "data": {
      "text/plain": "<Figure size 1600x600 with 1 Axes>",
      "image/png": "[encoded data removed]"
     },
     "metadata": {},
     "output_type": "display_data"
    }
   ],
   "source": [
    "plt.figure(1, figsize=(16,6))\n",
    "_ = plt.plot(nif.intc)"
   ],
   "metadata": {
    "collapsed": false
   }
  },
  {
   "cell_type": "code",
   "execution_count": 136,
   "outputs": [
    {
     "name": "stderr",
     "output_type": "stream",
     "text": [
      "C:\\Users\\Dhruv_fefar\\AppData\\Local\\Temp\\ipykernel_14192\\3496815715.py:1: SettingWithCopyWarning: \n",
      "A value is trying to be set on a copy of a slice from a DataFrame.\n",
      "Try using .loc[row_indexer,col_indexer] = value instead\n",
      "\n",
      "See the caveats in the documentation: https://pandas.pydata.org/pandas-docs/stable/user_guide/indexing.html#returning-a-view-versus-a-copy\n",
      "  nif[\"returns\"] = nif.intc.pct_change()\n"
     ]
    }
   ],
   "source": [
    "nif[\"returns\"] = nif.intc.pct_change()"
   ],
   "metadata": {
    "collapsed": false
   }
  },
  {
   "cell_type": "code",
   "execution_count": 137,
   "outputs": [
    {
     "data": {
      "text/plain": "                         intc   returns\ntime                                   \n29-03-2023 15:32:08  17080.70       NaN\n29-03-2023 15:31:14  17117.70  0.002166\n29-03-2023 15:29:00  17115.55 -0.000126\n29-03-2023 15:28:00  17117.35  0.000105\n29-03-2023 15:27:00  17122.65  0.000310",
      "text/html": "<div>\n<style scoped>\n    .dataframe tbody tr th:only-of-type {\n        vertical-align: middle;\n    }\n\n    .dataframe tbody tr th {\n        vertical-align: top;\n    }\n\n    .dataframe thead th {\n        text-align: right;\n    }\n</style>\n<table border=\"1\" class=\"dataframe\">\n  <thead>\n    <tr style=\"text-align: right;\">\n      <th></th>\n      <th>intc</th>\n      <th>returns</th>\n    </tr>\n    <tr>\n      <th>time</th>\n      <th></th>\n      <th></th>\n    </tr>\n  </thead>\n  <tbody>\n    <tr>\n      <th>29-03-2023 15:32:08</th>\n      <td>17080.70</td>\n      <td>NaN</td>\n    </tr>\n    <tr>\n      <th>29-03-2023 15:31:14</th>\n      <td>17117.70</td>\n      <td>0.002166</td>\n    </tr>\n    <tr>\n      <th>29-03-2023 15:29:00</th>\n      <td>17115.55</td>\n      <td>-0.000126</td>\n    </tr>\n    <tr>\n      <th>29-03-2023 15:28:00</th>\n      <td>17117.35</td>\n      <td>0.000105</td>\n    </tr>\n    <tr>\n      <th>29-03-2023 15:27:00</th>\n      <td>17122.65</td>\n      <td>0.000310</td>\n    </tr>\n  </tbody>\n</table>\n</div>"
     },
     "execution_count": 137,
     "metadata": {},
     "output_type": "execute_result"
    }
   ],
   "source": [
    "nif.head()"
   ],
   "metadata": {
    "collapsed": false
   }
  },
  {
   "cell_type": "code",
   "execution_count": 138,
   "outputs": [
    {
     "name": "stderr",
     "output_type": "stream",
     "text": [
      "C:\\Users\\Dhruv_fefar\\AppData\\Local\\Temp\\ipykernel_14192\\2268298242.py:1: SettingWithCopyWarning: \n",
      "A value is trying to be set on a copy of a slice from a DataFrame.\n",
      "Try using .loc[row_indexer,col_indexer] = value instead\n",
      "\n",
      "See the caveats in the documentation: https://pandas.pydata.org/pandas-docs/stable/user_guide/indexing.html#returning-a-view-versus-a-copy\n",
      "  nif[\"log_reurns\"] = np.log(1 + nif[\"returns\"])\n"
     ]
    }
   ],
   "source": [
    "nif[\"log_reurns\"] = np.log(1 + nif[\"returns\"])"
   ],
   "metadata": {
    "collapsed": false
   }
  },
  {
   "cell_type": "code",
   "execution_count": 139,
   "outputs": [
    {
     "data": {
      "text/plain": "                         intc   returns  log_reurns\ntime                                               \n29-03-2023 15:32:08  17080.70       NaN         NaN\n29-03-2023 15:31:14  17117.70  0.002166    0.002164\n29-03-2023 15:29:00  17115.55 -0.000126   -0.000126\n29-03-2023 15:28:00  17117.35  0.000105    0.000105\n29-03-2023 15:27:00  17122.65  0.000310    0.000310",
      "text/html": "<div>\n<style scoped>\n    .dataframe tbody tr th:only-of-type {\n        vertical-align: middle;\n    }\n\n    .dataframe tbody tr th {\n        vertical-align: top;\n    }\n\n    .dataframe thead th {\n        text-align: right;\n    }\n</style>\n<table border=\"1\" class=\"dataframe\">\n  <thead>\n    <tr style=\"text-align: right;\">\n      <th></th>\n      <th>intc</th>\n      <th>returns</th>\n      <th>log_reurns</th>\n    </tr>\n    <tr>\n      <th>time</th>\n      <th></th>\n      <th></th>\n      <th></th>\n    </tr>\n  </thead>\n  <tbody>\n    <tr>\n      <th>29-03-2023 15:32:08</th>\n      <td>17080.70</td>\n      <td>NaN</td>\n      <td>NaN</td>\n    </tr>\n    <tr>\n      <th>29-03-2023 15:31:14</th>\n      <td>17117.70</td>\n      <td>0.002166</td>\n      <td>0.002164</td>\n    </tr>\n    <tr>\n      <th>29-03-2023 15:29:00</th>\n      <td>17115.55</td>\n      <td>-0.000126</td>\n      <td>-0.000126</td>\n    </tr>\n    <tr>\n      <th>29-03-2023 15:28:00</th>\n      <td>17117.35</td>\n      <td>0.000105</td>\n      <td>0.000105</td>\n    </tr>\n    <tr>\n      <th>29-03-2023 15:27:00</th>\n      <td>17122.65</td>\n      <td>0.000310</td>\n      <td>0.000310</td>\n    </tr>\n  </tbody>\n</table>\n</div>"
     },
     "execution_count": 139,
     "metadata": {},
     "output_type": "execute_result"
    }
   ],
   "source": [
    "nif.head()"
   ],
   "metadata": {
    "collapsed": false
   }
  },
  {
   "cell_type": "code",
   "execution_count": 140,
   "outputs": [
    {
     "data": {
      "text/plain": "[<matplotlib.lines.Line2D at 0x227c854c580>]"
     },
     "execution_count": 140,
     "metadata": {},
     "output_type": "execute_result"
    },
    {
     "data": {
      "text/plain": "<Figure size 1600x400 with 1 Axes>",
      "image/png": "[encoded data removed]"
     },
     "metadata": {},
     "output_type": "display_data"
    }
   ],
   "source": [
    "plt.figure(1 , figsize=(16, 4))\n",
    "plt.plot(nif.log_reurns)"
   ],
   "metadata": {
    "collapsed": false
   }
  },
  {
   "cell_type": "code",
   "execution_count": 141,
   "outputs": [
    {
     "name": "stderr",
     "output_type": "stream",
     "text": [
      "C:\\Users\\Dhruv_fefar\\AppData\\Local\\Temp\\ipykernel_14192\\2473882622.py:1: SettingWithCopyWarning: \n",
      "A value is trying to be set on a copy of a slice from a DataFrame\n",
      "\n",
      "See the caveats in the documentation: https://pandas.pydata.org/pandas-docs/stable/user_guide/indexing.html#returning-a-view-versus-a-copy\n",
      "  nif.dropna(inplace = True)\n"
     ]
    }
   ],
   "source": [
    "nif.dropna(inplace = True)\n",
    "x = nif[[\"intc\" , \"log_reurns\"]].values"
   ],
   "metadata": {
    "collapsed": false
   }
  },
  {
   "cell_type": "code",
   "execution_count": 142,
   "outputs": [
    {
     "data": {
      "text/plain": "array([[ 1.71177000e+04,  2.16384477e-03],\n       [ 1.71155500e+04, -1.25608875e-04],\n       [ 1.71173500e+04,  1.05161993e-04],\n       ...,\n       [ 1.75995500e+04,  3.57750568e-03],\n       [ 1.75953500e+04, -2.38670945e-04],\n       [ 1.75966000e+04,  7.10389734e-05]])"
     },
     "execution_count": 142,
     "metadata": {},
     "output_type": "execute_result"
    }
   ],
   "source": [
    "x"
   ],
   "metadata": {
    "collapsed": false
   }
  },
  {
   "cell_type": "code",
   "execution_count": 143,
   "outputs": [],
   "source": [
    "from sklearn.preprocessing import MinMaxScaler"
   ],
   "metadata": {
    "collapsed": false
   }
  },
  {
   "cell_type": "code",
   "execution_count": 144,
   "outputs": [],
   "source": [
    "scaler = MinMaxScaler(feature_range=(0,1)).fit(x)\n",
    "x_scaled = scaler.transform(x)"
   ],
   "metadata": {
    "collapsed": false
   }
  },
  {
   "cell_type": "code",
   "execution_count": 145,
   "outputs": [
    {
     "data": {
      "text/plain": "array([[0.26933055, 0.63121191],\n       [0.26778122, 0.54816874],\n       [0.26907833, 0.55653927],\n       ...,\n       [0.61655978, 0.68248829],\n       [0.61353318, 0.54406774],\n       [0.61443396, 0.55530156]])"
     },
     "execution_count": 145,
     "metadata": {},
     "output_type": "execute_result"
    }
   ],
   "source": [
    "x_scaled"
   ],
   "metadata": {
    "collapsed": false
   }
  },
  {
   "cell_type": "code",
   "execution_count": 146,
   "outputs": [],
   "source": [
    "y = [x[0] for x in x_scaled]"
   ],
   "metadata": {
    "collapsed": false
   }
  },
  {
   "cell_type": "code",
   "execution_count": 147,
   "outputs": [
    {
     "data": {
      "text/plain": "          0\n0  0.269331\n1  0.267781\n2  0.269078\n3  0.272898\n4  0.266736",
      "text/html": "<div>\n<style scoped>\n    .dataframe tbody tr th:only-of-type {\n        vertical-align: middle;\n    }\n\n    .dataframe tbody tr th {\n        vertical-align: top;\n    }\n\n    .dataframe thead th {\n        text-align: right;\n    }\n</style>\n<table border=\"1\" class=\"dataframe\">\n  <thead>\n    <tr style=\"text-align: right;\">\n      <th></th>\n      <th>0</th>\n    </tr>\n  </thead>\n  <tbody>\n    <tr>\n      <th>0</th>\n      <td>0.269331</td>\n    </tr>\n    <tr>\n      <th>1</th>\n      <td>0.267781</td>\n    </tr>\n    <tr>\n      <th>2</th>\n      <td>0.269078</td>\n    </tr>\n    <tr>\n      <th>3</th>\n      <td>0.272898</td>\n    </tr>\n    <tr>\n      <th>4</th>\n      <td>0.266736</td>\n    </tr>\n  </tbody>\n</table>\n</div>"
     },
     "execution_count": 147,
     "metadata": {},
     "output_type": "execute_result"
    }
   ],
   "source": [
    "pd.DataFrame(y).head()"
   ],
   "metadata": {
    "collapsed": false
   }
  },
  {
   "cell_type": "markdown",
   "source": [
    "SPLIT TRAIN AND TEST"
   ],
   "metadata": {
    "collapsed": false
   }
  },
  {
   "cell_type": "code",
   "execution_count": 148,
   "outputs": [
    {
     "name": "stdout",
     "output_type": "stream",
     "text": [
      "13008\n"
     ]
    }
   ],
   "source": [
    "split = int(len(x_scaled) * 0.8)\n",
    "print(split)"
   ],
   "metadata": {
    "collapsed": false
   }
  },
  {
   "cell_type": "code",
   "execution_count": 149,
   "outputs": [],
   "source": [
    "x_train = x_scaled[:split]\n",
    "x_test = x_scaled[split:]\n",
    "y_train = y[:split]\n",
    "y_test = y[split : len(y)]"
   ],
   "metadata": {
    "collapsed": false
   }
  },
  {
   "cell_type": "code",
   "execution_count": 150,
   "outputs": [],
   "source": [
    "assert len(x_train)  == len(y_train)"
   ],
   "metadata": {
    "collapsed": false
   }
  },
  {
   "cell_type": "code",
   "execution_count": 151,
   "outputs": [],
   "source": [
    "assert len(x_test)  == len(y_test)"
   ],
   "metadata": {
    "collapsed": false
   }
  },
  {
   "cell_type": "markdown",
   "source": [
    "PREDICT AT TIME T+1"
   ],
   "metadata": {
    "collapsed": false
   }
  },
  {
   "cell_type": "code",
   "execution_count": 152,
   "outputs": [
    {
     "data": {
      "text/plain": "13008"
     },
     "execution_count": 152,
     "metadata": {},
     "output_type": "execute_result"
    }
   ],
   "source": [
    "len(x_train)"
   ],
   "metadata": {
    "collapsed": false
   }
  },
  {
   "cell_type": "code",
   "execution_count": 153,
   "outputs": [],
   "source": [
    "n = 3\n",
    "xtrain = []\n",
    "ytrain = []\n",
    "xtest = []\n",
    "ytest = []\n",
    "\n",
    "for i in range(n, len(x_train)):\n",
    "    xtrain.append(x_train[i - n : i , : x_train.shape[1]])\n",
    "    ytrain.append(y_train[i])\n",
    "for i in range(n , len(x_test)):\n",
    "    xtest.append(x_test[i - n : i, : x_test.shape[1]])\n",
    "    ytest.append(y_test[i])"
   ],
   "metadata": {
    "collapsed": false
   }
  },
  {
   "cell_type": "code",
   "execution_count": 154,
   "outputs": [
    {
     "data": {
      "text/plain": "                         intc   returns  log_reurns\ntime                                               \n29-03-2023 15:31:14  17117.70  0.002166    0.002164\n29-03-2023 15:29:00  17115.55 -0.000126   -0.000126\n29-03-2023 15:28:00  17117.35  0.000105    0.000105\n29-03-2023 15:27:00  17122.65  0.000310    0.000310\n29-03-2023 15:26:00  17114.10 -0.000499   -0.000499",
      "text/html": "<div>\n<style scoped>\n    .dataframe tbody tr th:only-of-type {\n        vertical-align: middle;\n    }\n\n    .dataframe tbody tr th {\n        vertical-align: top;\n    }\n\n    .dataframe thead th {\n        text-align: right;\n    }\n</style>\n<table border=\"1\" class=\"dataframe\">\n  <thead>\n    <tr style=\"text-align: right;\">\n      <th></th>\n      <th>intc</th>\n      <th>returns</th>\n      <th>log_reurns</th>\n    </tr>\n    <tr>\n      <th>time</th>\n      <th></th>\n      <th></th>\n      <th></th>\n    </tr>\n  </thead>\n  <tbody>\n    <tr>\n      <th>29-03-2023 15:31:14</th>\n      <td>17117.70</td>\n      <td>0.002166</td>\n      <td>0.002164</td>\n    </tr>\n    <tr>\n      <th>29-03-2023 15:29:00</th>\n      <td>17115.55</td>\n      <td>-0.000126</td>\n      <td>-0.000126</td>\n    </tr>\n    <tr>\n      <th>29-03-2023 15:28:00</th>\n      <td>17117.35</td>\n      <td>0.000105</td>\n      <td>0.000105</td>\n    </tr>\n    <tr>\n      <th>29-03-2023 15:27:00</th>\n      <td>17122.65</td>\n      <td>0.000310</td>\n      <td>0.000310</td>\n    </tr>\n    <tr>\n      <th>29-03-2023 15:26:00</th>\n      <td>17114.10</td>\n      <td>-0.000499</td>\n      <td>-0.000499</td>\n    </tr>\n  </tbody>\n</table>\n</div>"
     },
     "execution_count": 154,
     "metadata": {},
     "output_type": "execute_result"
    }
   ],
   "source": [
    "nif.head()"
   ],
   "metadata": {
    "collapsed": false
   }
  },
  {
   "cell_type": "code",
   "execution_count": 155,
   "outputs": [
    {
     "data": {
      "text/plain": "array([[0.26933055, 0.63121191],\n       [0.26778122, 0.54816874],\n       [0.26907833, 0.55653927]])"
     },
     "execution_count": 155,
     "metadata": {},
     "output_type": "execute_result"
    }
   ],
   "source": [
    "xtrain[0]"
   ],
   "metadata": {
    "collapsed": false
   }
  },
  {
   "cell_type": "code",
   "execution_count": 156,
   "outputs": [
    {
     "data": {
      "text/plain": "0.27289760034589605"
     },
     "execution_count": 156,
     "metadata": {},
     "output_type": "execute_result"
    }
   ],
   "source": [
    "ytrain[0]"
   ],
   "metadata": {
    "collapsed": false
   }
  },
  {
   "cell_type": "code",
   "execution_count": 157,
   "outputs": [],
   "source": [
    "val = np.array(ytrain[0])\n",
    "val = np.c_[val, np.zeros(val.shape)]"
   ],
   "metadata": {
    "collapsed": false
   }
  },
  {
   "cell_type": "code",
   "execution_count": 158,
   "outputs": [
    {
     "data": {
      "text/plain": "array([[ 1.71226500e+04, -1.52383125e-02]])"
     },
     "execution_count": 158,
     "metadata": {},
     "output_type": "execute_result"
    }
   ],
   "source": [
    "scaler.inverse_transform(val)"
   ],
   "metadata": {
    "collapsed": false
   }
  },
  {
   "cell_type": "code",
   "execution_count": 159,
   "outputs": [],
   "source": [
    "xtrain, ytrain = (np.array(xtrain), np.array(ytrain))\n",
    "xtrain = np.reshape(xtrain, (xtrain.shape[0], xtrain.shape[1], xtrain.shape[2]))\n",
    "\n",
    "xtest, ytest = (np.array(xtest), np.array(ytest))\n",
    "xtest = np.reshape(xtest, (xtest.shape[0], xtest.shape[1], xtest.shape[2]))\n"
   ],
   "metadata": {
    "collapsed": false
   }
  },
  {
   "cell_type": "code",
   "execution_count": 160,
   "outputs": [
    {
     "data": {
      "text/plain": "((13005, 3, 2), (13005,), (3249, 3, 2), (3249,))"
     },
     "execution_count": 160,
     "metadata": {},
     "output_type": "execute_result"
    }
   ],
   "source": [
    "xtrain.shape , ytrain.shape , xtest.shape , ytest.shape"
   ],
   "metadata": {
    "collapsed": false
   }
  },
  {
   "cell_type": "code",
   "execution_count": 161,
   "outputs": [
    {
     "data": {
      "text/plain": "13005"
     },
     "execution_count": 161,
     "metadata": {},
     "output_type": "execute_result"
    }
   ],
   "source": [
    "len(xtrain)"
   ],
   "metadata": {
    "collapsed": false
   }
  },
  {
   "cell_type": "code",
   "execution_count": 162,
   "outputs": [],
   "source": [
    "from keras.models import Sequential\n",
    "from keras.layers import LSTM, Dense"
   ],
   "metadata": {
    "collapsed": false
   }
  },
  {
   "cell_type": "code",
   "execution_count": 163,
   "outputs": [
    {
     "name": "stdout",
     "output_type": "stream",
     "text": [
      "Epoch 1/100\n",
      "813/813 [==============================] - 7s 5ms/step - loss: 0.0648 - val_loss: 3.4108e-04\n",
      "Epoch 2/100\n",
      "813/813 [==============================] - 4s 5ms/step - loss: 2.0299e-04 - val_loss: 1.7116e-04\n",
      "Epoch 3/100\n",
      "813/813 [==============================] - 4s 5ms/step - loss: 1.3575e-04 - val_loss: 1.5274e-04\n",
      "Epoch 4/100\n",
      "813/813 [==============================] - 4s 4ms/step - loss: 1.3259e-04 - val_loss: 1.6080e-04\n",
      "Epoch 5/100\n",
      "813/813 [==============================] - 4s 4ms/step - loss: 1.2801e-04 - val_loss: 1.8501e-04\n",
      "Epoch 6/100\n",
      "813/813 [==============================] - 4s 5ms/step - loss: 1.2266e-04 - val_loss: 1.1361e-04\n",
      "Epoch 7/100\n",
      "813/813 [==============================] - 3s 4ms/step - loss: 1.1454e-04 - val_loss: 1.5193e-04\n",
      "Epoch 8/100\n",
      "813/813 [==============================] - 3s 4ms/step - loss: 1.0681e-04 - val_loss: 1.2005e-04\n",
      "Epoch 9/100\n",
      "813/813 [==============================] - 3s 4ms/step - loss: 9.9288e-05 - val_loss: 1.1230e-04\n",
      "Epoch 10/100\n",
      "813/813 [==============================] - 3s 4ms/step - loss: 9.2225e-05 - val_loss: 9.7820e-05\n",
      "Epoch 11/100\n",
      "813/813 [==============================] - 3s 4ms/step - loss: 8.7275e-05 - val_loss: 9.7068e-05\n",
      "Epoch 12/100\n",
      "813/813 [==============================] - 3s 4ms/step - loss: 8.1051e-05 - val_loss: 1.1453e-04\n",
      "Epoch 13/100\n",
      "813/813 [==============================] - 3s 4ms/step - loss: 7.6864e-05 - val_loss: 1.0765e-04\n",
      "Epoch 14/100\n",
      "813/813 [==============================] - 3s 4ms/step - loss: 7.4267e-05 - val_loss: 1.2103e-04\n",
      "Epoch 15/100\n",
      "813/813 [==============================] - 3s 4ms/step - loss: 6.9048e-05 - val_loss: 7.8619e-05\n",
      "Epoch 16/100\n",
      "813/813 [==============================] - 3s 4ms/step - loss: 6.7438e-05 - val_loss: 7.8756e-05\n",
      "Epoch 17/100\n",
      "813/813 [==============================] - 3s 4ms/step - loss: 6.3574e-05 - val_loss: 7.4897e-05\n",
      "Epoch 18/100\n",
      "813/813 [==============================] - 3s 4ms/step - loss: 6.2840e-05 - val_loss: 8.7366e-05\n",
      "Epoch 19/100\n",
      "813/813 [==============================] - 3s 4ms/step - loss: 6.0776e-05 - val_loss: 8.3665e-05\n",
      "Epoch 20/100\n",
      "813/813 [==============================] - 3s 4ms/step - loss: 5.9366e-05 - val_loss: 7.7132e-05\n",
      "Epoch 21/100\n",
      "813/813 [==============================] - 3s 4ms/step - loss: 5.8388e-05 - val_loss: 7.2591e-05\n",
      "Epoch 22/100\n",
      "813/813 [==============================] - 4s 5ms/step - loss: 5.5936e-05 - val_loss: 9.1514e-05\n",
      "Epoch 23/100\n",
      "813/813 [==============================] - 3s 4ms/step - loss: 5.5569e-05 - val_loss: 6.9084e-05\n",
      "Epoch 24/100\n",
      "813/813 [==============================] - 4s 5ms/step - loss: 5.5392e-05 - val_loss: 7.6929e-05\n",
      "Epoch 25/100\n",
      "813/813 [==============================] - 5s 6ms/step - loss: 5.4368e-05 - val_loss: 9.6951e-05\n",
      "Epoch 26/100\n",
      "813/813 [==============================] - 4s 5ms/step - loss: 5.2976e-05 - val_loss: 8.3373e-05\n",
      "Epoch 27/100\n",
      "813/813 [==============================] - 4s 4ms/step - loss: 5.3180e-05 - val_loss: 7.3424e-05\n",
      "Epoch 28/100\n",
      "813/813 [==============================] - 4s 5ms/step - loss: 5.1366e-05 - val_loss: 6.7123e-05\n",
      "Epoch 29/100\n",
      "813/813 [==============================] - 4s 4ms/step - loss: 5.1261e-05 - val_loss: 7.8197e-05\n",
      "Epoch 30/100\n",
      "813/813 [==============================] - 4s 5ms/step - loss: 5.0608e-05 - val_loss: 7.9496e-05\n",
      "Epoch 31/100\n",
      "813/813 [==============================] - 4s 4ms/step - loss: 5.0898e-05 - val_loss: 6.9130e-05\n",
      "Epoch 32/100\n",
      "813/813 [==============================] - 4s 5ms/step - loss: 5.0506e-05 - val_loss: 8.9283e-05\n",
      "Epoch 33/100\n",
      "813/813 [==============================] - 4s 5ms/step - loss: 5.0051e-05 - val_loss: 7.3224e-05\n",
      "Epoch 34/100\n",
      "813/813 [==============================] - 4s 4ms/step - loss: 4.9420e-05 - val_loss: 6.6324e-05\n",
      "Epoch 35/100\n",
      "813/813 [==============================] - 4s 5ms/step - loss: 5.0306e-05 - val_loss: 7.4474e-05\n",
      "Epoch 36/100\n",
      "813/813 [==============================] - 4s 5ms/step - loss: 4.9284e-05 - val_loss: 7.6403e-05\n",
      "Epoch 37/100\n",
      "813/813 [==============================] - 4s 5ms/step - loss: 4.8469e-05 - val_loss: 7.4572e-05\n",
      "Epoch 38/100\n",
      "813/813 [==============================] - 4s 5ms/step - loss: 4.8583e-05 - val_loss: 8.3969e-05\n",
      "Epoch 39/100\n",
      "813/813 [==============================] - 4s 5ms/step - loss: 4.8962e-05 - val_loss: 6.6648e-05\n",
      "Epoch 40/100\n",
      "813/813 [==============================] - 3s 4ms/step - loss: 4.9667e-05 - val_loss: 6.6035e-05\n",
      "Epoch 41/100\n",
      "813/813 [==============================] - 4s 5ms/step - loss: 4.9604e-05 - val_loss: 7.0720e-05\n",
      "Epoch 42/100\n",
      "813/813 [==============================] - 4s 5ms/step - loss: 4.8756e-05 - val_loss: 7.8808e-05\n",
      "Epoch 43/100\n",
      "813/813 [==============================] - 4s 5ms/step - loss: 4.8303e-05 - val_loss: 7.8727e-05\n",
      "Epoch 44/100\n",
      "813/813 [==============================] - 3s 4ms/step - loss: 4.8925e-05 - val_loss: 6.5506e-05\n",
      "Epoch 45/100\n",
      "813/813 [==============================] - 4s 4ms/step - loss: 4.9415e-05 - val_loss: 7.2537e-05\n",
      "Epoch 46/100\n",
      "813/813 [==============================] - 3s 4ms/step - loss: 4.9056e-05 - val_loss: 8.2753e-05\n",
      "Epoch 47/100\n",
      "813/813 [==============================] - 3s 3ms/step - loss: 4.8604e-05 - val_loss: 8.0280e-05\n",
      "Epoch 48/100\n",
      "813/813 [==============================] - 3s 4ms/step - loss: 4.8260e-05 - val_loss: 6.6682e-05\n",
      "Epoch 49/100\n",
      "813/813 [==============================] - 3s 4ms/step - loss: 4.8905e-05 - val_loss: 7.1092e-05\n",
      "Epoch 50/100\n",
      "813/813 [==============================] - 5s 7ms/step - loss: 4.7736e-05 - val_loss: 8.0605e-05\n",
      "Epoch 51/100\n",
      "813/813 [==============================] - 3s 4ms/step - loss: 4.9438e-05 - val_loss: 7.3383e-05\n",
      "Epoch 52/100\n",
      "813/813 [==============================] - 3s 4ms/step - loss: 4.8851e-05 - val_loss: 7.7473e-05\n",
      "Epoch 53/100\n",
      "813/813 [==============================] - 5s 6ms/step - loss: 4.8146e-05 - val_loss: 6.5304e-05\n",
      "Epoch 54/100\n",
      "813/813 [==============================] - 5s 6ms/step - loss: 4.8524e-05 - val_loss: 7.0977e-05\n",
      "Epoch 55/100\n",
      "813/813 [==============================] - 5s 6ms/step - loss: 4.8583e-05 - val_loss: 6.9518e-05\n",
      "Epoch 56/100\n",
      "813/813 [==============================] - 4s 5ms/step - loss: 4.7678e-05 - val_loss: 1.0078e-04\n",
      "Epoch 57/100\n",
      "813/813 [==============================] - 3s 4ms/step - loss: 4.7765e-05 - val_loss: 6.7886e-05\n",
      "Epoch 58/100\n",
      "813/813 [==============================] - 4s 4ms/step - loss: 4.9071e-05 - val_loss: 7.1361e-05\n",
      "Epoch 59/100\n",
      "813/813 [==============================] - 3s 4ms/step - loss: 4.8513e-05 - val_loss: 6.9046e-05\n",
      "Epoch 60/100\n",
      "813/813 [==============================] - 3s 4ms/step - loss: 4.7882e-05 - val_loss: 6.5763e-05\n",
      "Epoch 61/100\n",
      "813/813 [==============================] - 4s 5ms/step - loss: 4.7677e-05 - val_loss: 6.6151e-05\n",
      "Epoch 62/100\n",
      "813/813 [==============================] - 3s 4ms/step - loss: 4.7624e-05 - val_loss: 6.5683e-05\n",
      "Epoch 63/100\n",
      "813/813 [==============================] - 4s 5ms/step - loss: 4.7979e-05 - val_loss: 6.8967e-05\n",
      "Epoch 64/100\n",
      "813/813 [==============================] - 3s 4ms/step - loss: 4.9069e-05 - val_loss: 6.7070e-05\n",
      "Epoch 65/100\n",
      "813/813 [==============================] - 3s 4ms/step - loss: 4.7312e-05 - val_loss: 7.1824e-05\n",
      "Epoch 66/100\n",
      "813/813 [==============================] - 3s 4ms/step - loss: 4.8768e-05 - val_loss: 6.5374e-05\n",
      "Epoch 67/100\n",
      "813/813 [==============================] - 3s 4ms/step - loss: 4.8053e-05 - val_loss: 6.5684e-05\n",
      "Epoch 68/100\n",
      "813/813 [==============================] - 3s 4ms/step - loss: 4.8062e-05 - val_loss: 7.6107e-05\n",
      "Epoch 69/100\n",
      "813/813 [==============================] - 3s 4ms/step - loss: 4.8562e-05 - val_loss: 7.5902e-05\n",
      "Epoch 70/100\n",
      "813/813 [==============================] - 3s 4ms/step - loss: 4.8186e-05 - val_loss: 6.8913e-05\n",
      "Epoch 71/100\n",
      "813/813 [==============================] - 3s 4ms/step - loss: 4.8223e-05 - val_loss: 6.5475e-05\n",
      "Epoch 72/100\n",
      "813/813 [==============================] - 3s 4ms/step - loss: 4.7691e-05 - val_loss: 6.7263e-05\n",
      "Epoch 73/100\n",
      "813/813 [==============================] - 3s 4ms/step - loss: 4.7604e-05 - val_loss: 6.5408e-05\n",
      "Epoch 74/100\n",
      "813/813 [==============================] - 3s 4ms/step - loss: 4.8265e-05 - val_loss: 6.4887e-05\n",
      "Epoch 75/100\n",
      "813/813 [==============================] - 3s 4ms/step - loss: 4.8239e-05 - val_loss: 6.5782e-05\n",
      "Epoch 76/100\n",
      "813/813 [==============================] - 3s 4ms/step - loss: 4.8116e-05 - val_loss: 6.4924e-05\n",
      "Epoch 77/100\n",
      "813/813 [==============================] - 3s 4ms/step - loss: 4.7091e-05 - val_loss: 6.7381e-05\n",
      "Epoch 78/100\n",
      "813/813 [==============================] - 3s 4ms/step - loss: 4.7874e-05 - val_loss: 6.6253e-05\n",
      "Epoch 79/100\n",
      "813/813 [==============================] - 3s 4ms/step - loss: 4.7642e-05 - val_loss: 7.8001e-05\n",
      "Epoch 80/100\n",
      "813/813 [==============================] - 3s 4ms/step - loss: 4.8336e-05 - val_loss: 6.5335e-05\n",
      "Epoch 81/100\n",
      "813/813 [==============================] - 3s 3ms/step - loss: 4.7674e-05 - val_loss: 6.5679e-05\n",
      "Epoch 82/100\n",
      "813/813 [==============================] - 3s 3ms/step - loss: 4.8792e-05 - val_loss: 6.5147e-05\n",
      "Epoch 83/100\n",
      "813/813 [==============================] - 3s 3ms/step - loss: 4.8419e-05 - val_loss: 6.9955e-05\n",
      "Epoch 84/100\n",
      "813/813 [==============================] - 3s 3ms/step - loss: 4.7883e-05 - val_loss: 6.6368e-05\n",
      "Epoch 85/100\n",
      "813/813 [==============================] - 3s 3ms/step - loss: 4.7837e-05 - val_loss: 6.6287e-05\n",
      "Epoch 86/100\n",
      "813/813 [==============================] - 3s 3ms/step - loss: 4.7792e-05 - val_loss: 6.8129e-05\n",
      "Epoch 87/100\n",
      "813/813 [==============================] - 3s 3ms/step - loss: 4.7323e-05 - val_loss: 8.1950e-05\n",
      "Epoch 88/100\n",
      "813/813 [==============================] - 3s 4ms/step - loss: 4.8759e-05 - val_loss: 6.5966e-05\n",
      "Epoch 89/100\n",
      "813/813 [==============================] - 3s 3ms/step - loss: 4.7750e-05 - val_loss: 6.7816e-05\n",
      "Epoch 90/100\n",
      "813/813 [==============================] - 3s 4ms/step - loss: 4.8578e-05 - val_loss: 6.5503e-05\n",
      "Epoch 91/100\n",
      "813/813 [==============================] - 3s 4ms/step - loss: 4.7614e-05 - val_loss: 7.4124e-05\n",
      "Epoch 92/100\n",
      "813/813 [==============================] - 3s 4ms/step - loss: 4.7500e-05 - val_loss: 6.4969e-05\n",
      "Epoch 93/100\n",
      "813/813 [==============================] - 3s 3ms/step - loss: 4.7760e-05 - val_loss: 6.7134e-05\n",
      "Epoch 94/100\n",
      "813/813 [==============================] - 3s 3ms/step - loss: 4.7965e-05 - val_loss: 6.6463e-05\n",
      "Epoch 95/100\n",
      "813/813 [==============================] - 3s 4ms/step - loss: 4.7342e-05 - val_loss: 6.7808e-05\n",
      "Epoch 96/100\n",
      "813/813 [==============================] - 3s 4ms/step - loss: 4.7587e-05 - val_loss: 6.4685e-05\n",
      "Epoch 97/100\n",
      "813/813 [==============================] - 3s 3ms/step - loss: 4.7894e-05 - val_loss: 6.5455e-05\n",
      "Epoch 98/100\n",
      "813/813 [==============================] - 3s 4ms/step - loss: 4.7746e-05 - val_loss: 6.4815e-05\n",
      "Epoch 99/100\n",
      "813/813 [==============================] - 3s 3ms/step - loss: 4.7316e-05 - val_loss: 6.4885e-05\n",
      "Epoch 100/100\n",
      "813/813 [==============================] - 3s 4ms/step - loss: 4.8459e-05 - val_loss: 6.5959e-05\n"
     ]
    },
    {
     "data": {
      "text/plain": "<keras.callbacks.History at 0x2282984bb20>"
     },
     "execution_count": 163,
     "metadata": {},
     "output_type": "execute_result"
    }
   ],
   "source": [
    "model = Sequential()\n",
    "model.add(LSTM(4, input_shape=(xtrain.shape[1], xtrain.shape[2])))\n",
    "model.add(Dense(1))\n",
    "model.compile(loss=\"mean_squared_error\" , optimizer= \"adam\")\n",
    "model.fit(\n",
    "    xtrain, ytrain, epochs=100, validation_data=(xtest, ytest) , batch_size=16 , verbose=1)\n"
   ],
   "metadata": {
    "collapsed": false
   }
  },
  {
   "cell_type": "code",
   "execution_count": 164,
   "outputs": [
    {
     "name": "stdout",
     "output_type": "stream",
     "text": [
      "Model: \"sequential_1\"\n",
      "_________________________________________________________________\n",
      " Layer (type)                Output Shape              Param #   \n",
      "=================================================================\n",
      " lstm_1 (LSTM)               (None, 4)                 112       \n",
      "                                                                 \n",
      " dense_1 (Dense)             (None, 1)                 5         \n",
      "                                                                 \n",
      "=================================================================\n",
      "Total params: 117\n",
      "Trainable params: 117\n",
      "Non-trainable params: 0\n",
      "_________________________________________________________________\n"
     ]
    }
   ],
   "source": [
    "model.summary()"
   ],
   "metadata": {
    "collapsed": false
   }
  },
  {
   "cell_type": "code",
   "execution_count": 165,
   "outputs": [
    {
     "name": "stdout",
     "output_type": "stream",
     "text": [
      "407/407 [==============================] - 2s 2ms/step\n",
      "102/102 [==============================] - 0s 2ms/step\n"
     ]
    }
   ],
   "source": [
    "trainpredict = model.predict(xtrain)\n",
    "testpredict = model.predict(xtest)"
   ],
   "metadata": {
    "collapsed": false
   }
  },
  {
   "cell_type": "code",
   "execution_count": 166,
   "outputs": [],
   "source": [
    "trainpredict = np.c_[trainpredict, np.zeros(trainpredict.shape)]\n",
    "testpredict = np.c_[testpredict, np.zeros(testpredict.shape)]"
   ],
   "metadata": {
    "collapsed": false
   }
  },
  {
   "cell_type": "code",
   "execution_count": 167,
   "outputs": [],
   "source": [
    "trainpredict = scaler.inverse_transform(trainpredict)\n",
    "trainpredict = [x[0] for x in trainpredict]\n",
    "\n",
    "testpredict = scaler.inverse_transform(testpredict)\n",
    "testpredict = [x[0] for x in testpredict]"
   ],
   "metadata": {
    "collapsed": false
   }
  },
  {
   "cell_type": "code",
   "execution_count": 168,
   "outputs": [
    {
     "name": "stdout",
     "output_type": "stream",
     "text": [
      "[17117.475577005745, 17123.540286394953, 17116.03603359163, 17117.112299904227, 17111.663722375037]\n",
      "[17859.33320015073, 17864.422553533317, 17867.675008493665, 17863.307825505733, 17869.073195225003]\n"
     ]
    }
   ],
   "source": [
    "print(trainpredict[:5])\n",
    "print(testpredict[:5])"
   ],
   "metadata": {
    "collapsed": false
   }
  },
  {
   "cell_type": "code",
   "execution_count": 169,
   "outputs": [
    {
     "name": "stdout",
     "output_type": "stream",
     "text": [
      "Train Score: 17444.46 RMSE\n",
      "Test Score: 17704.31 RMSE\n"
     ]
    }
   ],
   "source": [
    "from sklearn.metrics import mean_squared_error\n",
    "trainScore = mean_squared_error([x[0][0] for x in xtrain], trainpredict, squared=False)\n",
    "print(\"Train Score: %.2f RMSE\" % (trainScore))\n",
    "\n",
    "testscore = mean_squared_error([x[0][0] for x in xtest] , testpredict, squared=False)\n",
    "print(\"Test Score: %.2f RMSE\" % (testscore))"
   ],
   "metadata": {
    "collapsed": false
   }
  },
  {
   "cell_type": "code",
   "execution_count": 170,
   "outputs": [
    {
     "data": {
      "text/plain": "             0\n0     0.806622\n1     0.809289\n2     0.805902\n3     0.810586\n4     0.809541\n...        ...\n3244  0.571017\n3245  0.571269\n3246  0.616560\n3247  0.613533\n3248  0.614434\n\n[3249 rows x 1 columns]",
      "text/html": "<div>\n<style scoped>\n    .dataframe tbody tr th:only-of-type {\n        vertical-align: middle;\n    }\n\n    .dataframe tbody tr th {\n        vertical-align: top;\n    }\n\n    .dataframe thead th {\n        text-align: right;\n    }\n</style>\n<table border=\"1\" class=\"dataframe\">\n  <thead>\n    <tr style=\"text-align: right;\">\n      <th></th>\n      <th>0</th>\n    </tr>\n  </thead>\n  <tbody>\n    <tr>\n      <th>0</th>\n      <td>0.806622</td>\n    </tr>\n    <tr>\n      <th>1</th>\n      <td>0.809289</td>\n    </tr>\n    <tr>\n      <th>2</th>\n      <td>0.805902</td>\n    </tr>\n    <tr>\n      <th>3</th>\n      <td>0.810586</td>\n    </tr>\n    <tr>\n      <th>4</th>\n      <td>0.809541</td>\n    </tr>\n    <tr>\n      <th>...</th>\n      <td>...</td>\n    </tr>\n    <tr>\n      <th>3244</th>\n      <td>0.571017</td>\n    </tr>\n    <tr>\n      <th>3245</th>\n      <td>0.571269</td>\n    </tr>\n    <tr>\n      <th>3246</th>\n      <td>0.616560</td>\n    </tr>\n    <tr>\n      <th>3247</th>\n      <td>0.613533</td>\n    </tr>\n    <tr>\n      <th>3248</th>\n      <td>0.614434</td>\n    </tr>\n  </tbody>\n</table>\n<p>3249 rows × 1 columns</p>\n</div>"
     },
     "execution_count": 170,
     "metadata": {},
     "output_type": "execute_result"
    }
   ],
   "source": [
    "pd.DataFrame(ytest)"
   ],
   "metadata": {
    "collapsed": false
   }
  },
  {
   "cell_type": "code",
   "execution_count": 171,
   "outputs": [
    {
     "data": {
      "text/plain": "       0         1         2         3         4         5         6      \n0  0.809901  0.542069  0.807055  0.544705  0.801398  0.536782  0.807055  \\\n1  0.530814  0.647799  0.589235  0.635008  0.530814  0.647799  0.589235   \n\n       7         8         9     ...      9737      9738      9739      9740   \n0  0.544705  0.801398  0.536782  ...  0.564141  0.638683  0.525886  0.642682  \\\n1  0.641853  0.535760  0.647799  ...  0.571269  0.553449  0.616560  0.682488   \n\n       9741      9742      9743      9744      9745      9746  \n0  0.564141  0.635008  0.530814  0.642682  0.564141  0.635008  \n1  0.571269  0.553449  0.616560  0.682488  0.613533  0.544068  \n\n[2 rows x 9747 columns]",
      "text/html": "<div>\n<style scoped>\n    .dataframe tbody tr th:only-of-type {\n        vertical-align: middle;\n    }\n\n    .dataframe tbody tr th {\n        vertical-align: top;\n    }\n\n    .dataframe thead th {\n        text-align: right;\n    }\n</style>\n<table border=\"1\" class=\"dataframe\">\n  <thead>\n    <tr style=\"text-align: right;\">\n      <th></th>\n      <th>0</th>\n      <th>1</th>\n      <th>2</th>\n      <th>3</th>\n      <th>4</th>\n      <th>5</th>\n      <th>6</th>\n      <th>7</th>\n      <th>8</th>\n      <th>9</th>\n      <th>...</th>\n      <th>9737</th>\n      <th>9738</th>\n      <th>9739</th>\n      <th>9740</th>\n      <th>9741</th>\n      <th>9742</th>\n      <th>9743</th>\n      <th>9744</th>\n      <th>9745</th>\n      <th>9746</th>\n    </tr>\n  </thead>\n  <tbody>\n    <tr>\n      <th>0</th>\n      <td>0.809901</td>\n      <td>0.542069</td>\n      <td>0.807055</td>\n      <td>0.544705</td>\n      <td>0.801398</td>\n      <td>0.536782</td>\n      <td>0.807055</td>\n      <td>0.544705</td>\n      <td>0.801398</td>\n      <td>0.536782</td>\n      <td>...</td>\n      <td>0.564141</td>\n      <td>0.638683</td>\n      <td>0.525886</td>\n      <td>0.642682</td>\n      <td>0.564141</td>\n      <td>0.635008</td>\n      <td>0.530814</td>\n      <td>0.642682</td>\n      <td>0.564141</td>\n      <td>0.635008</td>\n    </tr>\n    <tr>\n      <th>1</th>\n      <td>0.530814</td>\n      <td>0.647799</td>\n      <td>0.589235</td>\n      <td>0.635008</td>\n      <td>0.530814</td>\n      <td>0.647799</td>\n      <td>0.589235</td>\n      <td>0.641853</td>\n      <td>0.535760</td>\n      <td>0.647799</td>\n      <td>...</td>\n      <td>0.571269</td>\n      <td>0.553449</td>\n      <td>0.616560</td>\n      <td>0.682488</td>\n      <td>0.571269</td>\n      <td>0.553449</td>\n      <td>0.616560</td>\n      <td>0.682488</td>\n      <td>0.613533</td>\n      <td>0.544068</td>\n    </tr>\n  </tbody>\n</table>\n<p>2 rows × 9747 columns</p>\n</div>"
     },
     "execution_count": 171,
     "metadata": {},
     "output_type": "execute_result"
    }
   ],
   "source": [
    "pd.DataFrame(xtest.reshape(2,-1))"
   ],
   "metadata": {
    "collapsed": false
   }
  },
  {
   "cell_type": "code",
   "execution_count": 171,
   "outputs": [],
   "source": [],
   "metadata": {
    "collapsed": false
   }
  },
  {
   "cell_type": "code",
   "execution_count": 172,
   "outputs": [
    {
     "data": {
      "text/plain": "array([[[0.80990128, 0.5420688 ],\n        [0.80705484, 0.54470537],\n        [0.801398  , 0.53678216]],\n\n       [[0.80705484, 0.54470537],\n        [0.801398  , 0.53678216],\n        [0.80662247, 0.56744919]],\n\n       [[0.801398  , 0.53678216],\n        [0.80662247, 0.56744919],\n        [0.80928875, 0.56023703]],\n\n       ...,\n\n       [[0.58013259, 0.58219014],\n        [0.57101679, 0.5265691 ],\n        [0.57126901, 0.55344876]],\n\n       [[0.57101679, 0.5265691 ],\n        [0.57126901, 0.55344876],\n        [0.61655978, 0.68248829]],\n\n       [[0.57126901, 0.55344876],\n        [0.61655978, 0.68248829],\n        [0.61353318, 0.54406774]]])"
     },
     "execution_count": 172,
     "metadata": {},
     "output_type": "execute_result"
    }
   ],
   "source": [
    "xtest"
   ],
   "metadata": {
    "collapsed": false
   }
  },
  {
   "cell_type": "code",
   "execution_count": 173,
   "outputs": [
    {
     "ename": "KeyError",
     "evalue": "13008",
     "output_type": "error",
     "traceback": [
      "\u001B[1;31m---------------------------------------------------------------------------\u001B[0m",
      "\u001B[1;31mKeyError\u001B[0m                                  Traceback (most recent call last)",
      "File \u001B[1;32m~\\PycharmProjects\\nifty\\venv\\lib\\site-packages\\pandas\\core\\indexes\\base.py:3652\u001B[0m, in \u001B[0;36mIndex.get_loc\u001B[1;34m(self, key)\u001B[0m\n\u001B[0;32m   3651\u001B[0m \u001B[38;5;28;01mtry\u001B[39;00m:\n\u001B[1;32m-> 3652\u001B[0m     \u001B[38;5;28;01mreturn\u001B[39;00m \u001B[38;5;28;43mself\u001B[39;49m\u001B[38;5;241;43m.\u001B[39;49m\u001B[43m_engine\u001B[49m\u001B[38;5;241;43m.\u001B[39;49m\u001B[43mget_loc\u001B[49m\u001B[43m(\u001B[49m\u001B[43mcasted_key\u001B[49m\u001B[43m)\u001B[49m\n\u001B[0;32m   3653\u001B[0m \u001B[38;5;28;01mexcept\u001B[39;00m \u001B[38;5;167;01mKeyError\u001B[39;00m \u001B[38;5;28;01mas\u001B[39;00m err:\n",
      "File \u001B[1;32m~\\PycharmProjects\\nifty\\venv\\lib\\site-packages\\pandas\\_libs\\index.pyx:147\u001B[0m, in \u001B[0;36mpandas._libs.index.IndexEngine.get_loc\u001B[1;34m()\u001B[0m\n",
      "File \u001B[1;32m~\\PycharmProjects\\nifty\\venv\\lib\\site-packages\\pandas\\_libs\\index.pyx:176\u001B[0m, in \u001B[0;36mpandas._libs.index.IndexEngine.get_loc\u001B[1;34m()\u001B[0m\n",
      "File \u001B[1;32mpandas\\_libs\\hashtable_class_helper.pxi:7080\u001B[0m, in \u001B[0;36mpandas._libs.hashtable.PyObjectHashTable.get_item\u001B[1;34m()\u001B[0m\n",
      "File \u001B[1;32mpandas\\_libs\\hashtable_class_helper.pxi:7088\u001B[0m, in \u001B[0;36mpandas._libs.hashtable.PyObjectHashTable.get_item\u001B[1;34m()\u001B[0m\n",
      "\u001B[1;31mKeyError\u001B[0m: 13008",
      "\nThe above exception was the direct cause of the following exception:\n",
      "\u001B[1;31mKeyError\u001B[0m                                  Traceback (most recent call last)",
      "Cell \u001B[1;32mIn[173], line 1\u001B[0m\n\u001B[1;32m----> 1\u001B[0m \u001B[43mnif\u001B[49m\u001B[43m[\u001B[49m\u001B[38;5;241;43m13008\u001B[39;49m\u001B[43m]\u001B[49m\n",
      "File \u001B[1;32m~\\PycharmProjects\\nifty\\venv\\lib\\site-packages\\pandas\\core\\frame.py:3760\u001B[0m, in \u001B[0;36mDataFrame.__getitem__\u001B[1;34m(self, key)\u001B[0m\n\u001B[0;32m   3758\u001B[0m \u001B[38;5;28;01mif\u001B[39;00m \u001B[38;5;28mself\u001B[39m\u001B[38;5;241m.\u001B[39mcolumns\u001B[38;5;241m.\u001B[39mnlevels \u001B[38;5;241m>\u001B[39m \u001B[38;5;241m1\u001B[39m:\n\u001B[0;32m   3759\u001B[0m     \u001B[38;5;28;01mreturn\u001B[39;00m \u001B[38;5;28mself\u001B[39m\u001B[38;5;241m.\u001B[39m_getitem_multilevel(key)\n\u001B[1;32m-> 3760\u001B[0m indexer \u001B[38;5;241m=\u001B[39m \u001B[38;5;28;43mself\u001B[39;49m\u001B[38;5;241;43m.\u001B[39;49m\u001B[43mcolumns\u001B[49m\u001B[38;5;241;43m.\u001B[39;49m\u001B[43mget_loc\u001B[49m\u001B[43m(\u001B[49m\u001B[43mkey\u001B[49m\u001B[43m)\u001B[49m\n\u001B[0;32m   3761\u001B[0m \u001B[38;5;28;01mif\u001B[39;00m is_integer(indexer):\n\u001B[0;32m   3762\u001B[0m     indexer \u001B[38;5;241m=\u001B[39m [indexer]\n",
      "File \u001B[1;32m~\\PycharmProjects\\nifty\\venv\\lib\\site-packages\\pandas\\core\\indexes\\base.py:3654\u001B[0m, in \u001B[0;36mIndex.get_loc\u001B[1;34m(self, key)\u001B[0m\n\u001B[0;32m   3652\u001B[0m     \u001B[38;5;28;01mreturn\u001B[39;00m \u001B[38;5;28mself\u001B[39m\u001B[38;5;241m.\u001B[39m_engine\u001B[38;5;241m.\u001B[39mget_loc(casted_key)\n\u001B[0;32m   3653\u001B[0m \u001B[38;5;28;01mexcept\u001B[39;00m \u001B[38;5;167;01mKeyError\u001B[39;00m \u001B[38;5;28;01mas\u001B[39;00m err:\n\u001B[1;32m-> 3654\u001B[0m     \u001B[38;5;28;01mraise\u001B[39;00m \u001B[38;5;167;01mKeyError\u001B[39;00m(key) \u001B[38;5;28;01mfrom\u001B[39;00m \u001B[38;5;21;01merr\u001B[39;00m\n\u001B[0;32m   3655\u001B[0m \u001B[38;5;28;01mexcept\u001B[39;00m \u001B[38;5;167;01mTypeError\u001B[39;00m:\n\u001B[0;32m   3656\u001B[0m     \u001B[38;5;66;03m# If we have a listlike key, _check_indexing_error will raise\u001B[39;00m\n\u001B[0;32m   3657\u001B[0m     \u001B[38;5;66;03m#  InvalidIndexError. Otherwise we fall through and re-raise\u001B[39;00m\n\u001B[0;32m   3658\u001B[0m     \u001B[38;5;66;03m#  the TypeError.\u001B[39;00m\n\u001B[0;32m   3659\u001B[0m     \u001B[38;5;28mself\u001B[39m\u001B[38;5;241m.\u001B[39m_check_indexing_error(key)\n",
      "\u001B[1;31mKeyError\u001B[0m: 13008"
     ]
    }
   ],
   "source": [
    "nif[13008]"
   ],
   "metadata": {
    "collapsed": false
   }
  },
  {
   "cell_type": "code",
   "execution_count": null,
   "outputs": [],
   "source": [],
   "metadata": {
    "collapsed": false
   }
  }
 ],
 "metadata": {
  "kernelspec": {
   "display_name": "Python 3",
   "language": "python",
   "name": "python3"
  },
  "language_info": {
   "codemirror_mode": {
    "name": "ipython",
    "version": 2
   },
   "file_extension": ".py",
   "mimetype": "text/x-python",
   "name": "python",
   "nbconvert_exporter": "python",
   "pygments_lexer": "ipython2",
   "version": "2.7.6"
  }
 },
 "nbformat": 4,
 "nbformat_minor": 0
}
