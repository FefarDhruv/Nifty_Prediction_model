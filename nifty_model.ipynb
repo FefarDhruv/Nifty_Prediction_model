{
 "cells": [
  {
   "cell_type": "code",
   "execution_count": 127,
   "metadata": {
    "collapsed": true
   },
   "outputs": [],
   "source": [
    "import tensorflow as tf\n",
    "import pandas as pd"
   ]
  },
  {
   "cell_type": "code",
   "execution_count": 128,
   "outputs": [
    {
     "name": "stdout",
     "output_type": "stream",
     "text": [
      "Shree AI Solutions\n"
     ]
    }
   ],
   "source": [
    "print(\"Shree AI Solutions\")"
   ],
   "metadata": {
    "collapsed": false
   }
  },
  {
   "cell_type": "code",
   "execution_count": 129,
   "outputs": [
    {
     "name": "stdout",
     "output_type": "stream",
     "text": [
      "2.12.0\n"
     ]
    }
   ],
   "source": [
    "print(tf.__version__)"
   ],
   "metadata": {
    "collapsed": false
   }
  },
  {
   "cell_type": "code",
   "execution_count": 130,
   "outputs": [],
   "source": [
    "data = pd.read_csv(\"sample.csv\")"
   ],
   "metadata": {
    "collapsed": false
   }
  },
  {
   "cell_type": "code",
   "execution_count": 131,
   "outputs": [],
   "source": [
    "newdata = data.drop(['ssboe','intvwap','intv','intoi','v','oi','Unnamed: 0','stat'],axis=1)"
   ],
   "metadata": {
    "collapsed": false
   }
  },
  {
   "cell_type": "code",
   "execution_count": 132,
   "outputs": [
    {
     "data": {
      "text/plain": "                  time     into     inth      intl      intc\n0  29-03-2023 15:32:08  17080.7  17080.7  17080.70  17080.70\n1  29-03-2023 15:31:14  17117.7  17117.7  17117.70  17117.70\n2  29-03-2023 15:29:00  17115.3  17121.5  17106.35  17115.55\n3  29-03-2023 15:28:00  17123.7  17125.9  17113.75  17117.35\n4  29-03-2023 15:27:00  17116.0  17123.9  17113.05  17122.65",
      "text/html": "<div>\n<style scoped>\n    .dataframe tbody tr th:only-of-type {\n        vertical-align: middle;\n    }\n\n    .dataframe tbody tr th {\n        vertical-align: top;\n    }\n\n    .dataframe thead th {\n        text-align: right;\n    }\n</style>\n<table border=\"1\" class=\"dataframe\">\n  <thead>\n    <tr style=\"text-align: right;\">\n      <th></th>\n      <th>time</th>\n      <th>into</th>\n      <th>inth</th>\n      <th>intl</th>\n      <th>intc</th>\n    </tr>\n  </thead>\n  <tbody>\n    <tr>\n      <th>0</th>\n      <td>29-03-2023 15:32:08</td>\n      <td>17080.7</td>\n      <td>17080.7</td>\n      <td>17080.70</td>\n      <td>17080.70</td>\n    </tr>\n    <tr>\n      <th>1</th>\n      <td>29-03-2023 15:31:14</td>\n      <td>17117.7</td>\n      <td>17117.7</td>\n      <td>17117.70</td>\n      <td>17117.70</td>\n    </tr>\n    <tr>\n      <th>2</th>\n      <td>29-03-2023 15:29:00</td>\n      <td>17115.3</td>\n      <td>17121.5</td>\n      <td>17106.35</td>\n      <td>17115.55</td>\n    </tr>\n    <tr>\n      <th>3</th>\n      <td>29-03-2023 15:28:00</td>\n      <td>17123.7</td>\n      <td>17125.9</td>\n      <td>17113.75</td>\n      <td>17117.35</td>\n    </tr>\n    <tr>\n      <th>4</th>\n      <td>29-03-2023 15:27:00</td>\n      <td>17116.0</td>\n      <td>17123.9</td>\n      <td>17113.05</td>\n      <td>17122.65</td>\n    </tr>\n  </tbody>\n</table>\n</div>"
     },
     "execution_count": 132,
     "metadata": {},
     "output_type": "execute_result"
    }
   ],
   "source": [
    "newdata.head()"
   ],
   "metadata": {
    "collapsed": false
   }
  },
  {
   "cell_type": "code",
   "execution_count": 133,
   "outputs": [
    {
     "name": "stderr",
     "output_type": "stream",
     "text": [
      "C:\\Users\\Dhruv_fefar\\AppData\\Local\\Temp\\ipykernel_5884\\638112835.py:1: UserWarning: Parsing dates in %d-%m-%Y %H:%M:%S format when dayfirst=False (the default) was specified. Pass `dayfirst=True` or specify a format to silence this warning.\n",
      "  newdata['time'] = pd.to_datetime(newdata['time'])\n"
     ]
    }
   ],
   "source": [
    "newdata['time'] = pd.to_datetime(newdata['time'])"
   ],
   "metadata": {
    "collapsed": false
   }
  },
  {
   "cell_type": "code",
   "execution_count": 134,
   "outputs": [],
   "source": [
    "newdata['time'] = pd.to_numeric(newdata['time'])"
   ],
   "metadata": {
    "collapsed": false
   }
  },
  {
   "cell_type": "code",
   "execution_count": 135,
   "outputs": [
    {
     "data": {
      "text/plain": "                      time      into      inth      intl      intc\n0      1680103928000000000  17080.70  17080.70  17080.70  17080.70\n1      1680103874000000000  17117.70  17117.70  17117.70  17117.70\n2      1680103740000000000  17115.30  17121.50  17106.35  17115.55\n3      1680103680000000000  17123.70  17125.90  17113.75  17117.35\n4      1680103620000000000  17116.00  17123.90  17113.05  17122.65\n...                    ...       ...       ...       ...       ...\n16256  1675069440000000000  17536.95  17536.95  17513.55  17536.35\n16257  1675069380000000000  17600.05  17601.60  17536.15  17536.70\n16258  1675069320000000000  17594.40  17615.20  17594.40  17599.55\n16259  1675069260000000000  17589.70  17599.60  17510.50  17595.35\n16260  1675069200000000000  17562.15  17642.75  17539.60  17596.60\n\n[16261 rows x 5 columns]",
      "text/html": "<div>\n<style scoped>\n    .dataframe tbody tr th:only-of-type {\n        vertical-align: middle;\n    }\n\n    .dataframe tbody tr th {\n        vertical-align: top;\n    }\n\n    .dataframe thead th {\n        text-align: right;\n    }\n</style>\n<table border=\"1\" class=\"dataframe\">\n  <thead>\n    <tr style=\"text-align: right;\">\n      <th></th>\n      <th>time</th>\n      <th>into</th>\n      <th>inth</th>\n      <th>intl</th>\n      <th>intc</th>\n    </tr>\n  </thead>\n  <tbody>\n    <tr>\n      <th>0</th>\n      <td>1680103928000000000</td>\n      <td>17080.70</td>\n      <td>17080.70</td>\n      <td>17080.70</td>\n      <td>17080.70</td>\n    </tr>\n    <tr>\n      <th>1</th>\n      <td>1680103874000000000</td>\n      <td>17117.70</td>\n      <td>17117.70</td>\n      <td>17117.70</td>\n      <td>17117.70</td>\n    </tr>\n    <tr>\n      <th>2</th>\n      <td>1680103740000000000</td>\n      <td>17115.30</td>\n      <td>17121.50</td>\n      <td>17106.35</td>\n      <td>17115.55</td>\n    </tr>\n    <tr>\n      <th>3</th>\n      <td>1680103680000000000</td>\n      <td>17123.70</td>\n      <td>17125.90</td>\n      <td>17113.75</td>\n      <td>17117.35</td>\n    </tr>\n    <tr>\n      <th>4</th>\n      <td>1680103620000000000</td>\n      <td>17116.00</td>\n      <td>17123.90</td>\n      <td>17113.05</td>\n      <td>17122.65</td>\n    </tr>\n    <tr>\n      <th>...</th>\n      <td>...</td>\n      <td>...</td>\n      <td>...</td>\n      <td>...</td>\n      <td>...</td>\n    </tr>\n    <tr>\n      <th>16256</th>\n      <td>1675069440000000000</td>\n      <td>17536.95</td>\n      <td>17536.95</td>\n      <td>17513.55</td>\n      <td>17536.35</td>\n    </tr>\n    <tr>\n      <th>16257</th>\n      <td>1675069380000000000</td>\n      <td>17600.05</td>\n      <td>17601.60</td>\n      <td>17536.15</td>\n      <td>17536.70</td>\n    </tr>\n    <tr>\n      <th>16258</th>\n      <td>1675069320000000000</td>\n      <td>17594.40</td>\n      <td>17615.20</td>\n      <td>17594.40</td>\n      <td>17599.55</td>\n    </tr>\n    <tr>\n      <th>16259</th>\n      <td>1675069260000000000</td>\n      <td>17589.70</td>\n      <td>17599.60</td>\n      <td>17510.50</td>\n      <td>17595.35</td>\n    </tr>\n    <tr>\n      <th>16260</th>\n      <td>1675069200000000000</td>\n      <td>17562.15</td>\n      <td>17642.75</td>\n      <td>17539.60</td>\n      <td>17596.60</td>\n    </tr>\n  </tbody>\n</table>\n<p>16261 rows × 5 columns</p>\n</div>"
     },
     "execution_count": 135,
     "metadata": {},
     "output_type": "execute_result"
    }
   ],
   "source": [
    "newdata"
   ],
   "metadata": {
    "collapsed": false
   }
  },
  {
   "cell_type": "code",
   "execution_count": 136,
   "outputs": [
    {
     "data": {
      "text/plain": "0       2023-03-29 15:32:08\n1       2023-03-29 15:31:14\n2       2023-03-29 15:29:00\n3       2023-03-29 15:28:00\n4       2023-03-29 15:27:00\n                ...        \n16256   2023-01-30 09:04:00\n16257   2023-01-30 09:03:00\n16258   2023-01-30 09:02:00\n16259   2023-01-30 09:01:00\n16260   2023-01-30 09:00:00\nName: time, Length: 16261, dtype: datetime64[ns]"
     },
     "execution_count": 136,
     "metadata": {},
     "output_type": "execute_result"
    }
   ],
   "source": [
    "pd.to_datetime(newdata['time'])"
   ],
   "metadata": {
    "collapsed": false
   }
  },
  {
   "cell_type": "code",
   "execution_count": 137,
   "outputs": [
    {
     "data": {
      "text/plain": "                      time      into      inth      intl      intc\n0      1680103928000000000  17080.70  17080.70  17080.70  17080.70\n1      1680103874000000000  17117.70  17117.70  17117.70  17117.70\n2      1680103740000000000  17115.30  17121.50  17106.35  17115.55\n3      1680103680000000000  17123.70  17125.90  17113.75  17117.35\n4      1680103620000000000  17116.00  17123.90  17113.05  17122.65\n...                    ...       ...       ...       ...       ...\n16256  1675069440000000000  17536.95  17536.95  17513.55  17536.35\n16257  1675069380000000000  17600.05  17601.60  17536.15  17536.70\n16258  1675069320000000000  17594.40  17615.20  17594.40  17599.55\n16259  1675069260000000000  17589.70  17599.60  17510.50  17595.35\n16260  1675069200000000000  17562.15  17642.75  17539.60  17596.60\n\n[16261 rows x 5 columns]",
      "text/html": "<div>\n<style scoped>\n    .dataframe tbody tr th:only-of-type {\n        vertical-align: middle;\n    }\n\n    .dataframe tbody tr th {\n        vertical-align: top;\n    }\n\n    .dataframe thead th {\n        text-align: right;\n    }\n</style>\n<table border=\"1\" class=\"dataframe\">\n  <thead>\n    <tr style=\"text-align: right;\">\n      <th></th>\n      <th>time</th>\n      <th>into</th>\n      <th>inth</th>\n      <th>intl</th>\n      <th>intc</th>\n    </tr>\n  </thead>\n  <tbody>\n    <tr>\n      <th>0</th>\n      <td>1680103928000000000</td>\n      <td>17080.70</td>\n      <td>17080.70</td>\n      <td>17080.70</td>\n      <td>17080.70</td>\n    </tr>\n    <tr>\n      <th>1</th>\n      <td>1680103874000000000</td>\n      <td>17117.70</td>\n      <td>17117.70</td>\n      <td>17117.70</td>\n      <td>17117.70</td>\n    </tr>\n    <tr>\n      <th>2</th>\n      <td>1680103740000000000</td>\n      <td>17115.30</td>\n      <td>17121.50</td>\n      <td>17106.35</td>\n      <td>17115.55</td>\n    </tr>\n    <tr>\n      <th>3</th>\n      <td>1680103680000000000</td>\n      <td>17123.70</td>\n      <td>17125.90</td>\n      <td>17113.75</td>\n      <td>17117.35</td>\n    </tr>\n    <tr>\n      <th>4</th>\n      <td>1680103620000000000</td>\n      <td>17116.00</td>\n      <td>17123.90</td>\n      <td>17113.05</td>\n      <td>17122.65</td>\n    </tr>\n    <tr>\n      <th>...</th>\n      <td>...</td>\n      <td>...</td>\n      <td>...</td>\n      <td>...</td>\n      <td>...</td>\n    </tr>\n    <tr>\n      <th>16256</th>\n      <td>1675069440000000000</td>\n      <td>17536.95</td>\n      <td>17536.95</td>\n      <td>17513.55</td>\n      <td>17536.35</td>\n    </tr>\n    <tr>\n      <th>16257</th>\n      <td>1675069380000000000</td>\n      <td>17600.05</td>\n      <td>17601.60</td>\n      <td>17536.15</td>\n      <td>17536.70</td>\n    </tr>\n    <tr>\n      <th>16258</th>\n      <td>1675069320000000000</td>\n      <td>17594.40</td>\n      <td>17615.20</td>\n      <td>17594.40</td>\n      <td>17599.55</td>\n    </tr>\n    <tr>\n      <th>16259</th>\n      <td>1675069260000000000</td>\n      <td>17589.70</td>\n      <td>17599.60</td>\n      <td>17510.50</td>\n      <td>17595.35</td>\n    </tr>\n    <tr>\n      <th>16260</th>\n      <td>1675069200000000000</td>\n      <td>17562.15</td>\n      <td>17642.75</td>\n      <td>17539.60</td>\n      <td>17596.60</td>\n    </tr>\n  </tbody>\n</table>\n<p>16261 rows × 5 columns</p>\n</div>"
     },
     "execution_count": 137,
     "metadata": {},
     "output_type": "execute_result"
    }
   ],
   "source": [
    "newdata"
   ],
   "metadata": {
    "collapsed": false
   }
  },
  {
   "cell_type": "code",
   "execution_count": 138,
   "outputs": [
    {
     "data": {
      "text/plain": "16261"
     },
     "execution_count": 138,
     "metadata": {},
     "output_type": "execute_result"
    }
   ],
   "source": [
    "len(newdata)"
   ],
   "metadata": {
    "collapsed": false
   }
  },
  {
   "cell_type": "code",
   "execution_count": 139,
   "outputs": [],
   "source": [
    "time = newdata['time']"
   ],
   "metadata": {
    "collapsed": false
   }
  },
  {
   "cell_type": "code",
   "execution_count": 140,
   "outputs": [],
   "source": [
    "res = newdata.drop(['time'], axis = 1)"
   ],
   "metadata": {
    "collapsed": false
   }
  },
  {
   "cell_type": "code",
   "execution_count": 141,
   "outputs": [
    {
     "data": {
      "text/plain": "(0        1680103928000000000\n 1        1680103874000000000\n 2        1680103740000000000\n 3        1680103680000000000\n 4        1680103620000000000\n                 ...         \n 16256    1675069440000000000\n 16257    1675069380000000000\n 16258    1675069320000000000\n 16259    1675069260000000000\n 16260    1675069200000000000\n Name: time, Length: 16261, dtype: int64,\n            into      inth      intl      intc\n 0      17080.70  17080.70  17080.70  17080.70\n 1      17117.70  17117.70  17117.70  17117.70\n 2      17115.30  17121.50  17106.35  17115.55\n 3      17123.70  17125.90  17113.75  17117.35\n 4      17116.00  17123.90  17113.05  17122.65\n ...         ...       ...       ...       ...\n 16256  17536.95  17536.95  17513.55  17536.35\n 16257  17600.05  17601.60  17536.15  17536.70\n 16258  17594.40  17615.20  17594.40  17599.55\n 16259  17589.70  17599.60  17510.50  17595.35\n 16260  17562.15  17642.75  17539.60  17596.60\n \n [16261 rows x 4 columns])"
     },
     "execution_count": 141,
     "metadata": {},
     "output_type": "execute_result"
    }
   ],
   "source": [
    "time , res"
   ],
   "metadata": {
    "collapsed": false
   }
  },
  {
   "cell_type": "code",
   "execution_count": 142,
   "outputs": [],
   "source": [
    "train_time = time[:10000]\n",
    "test_time = time[10000:]\n",
    "train_res = res[:10000]\n",
    "test_res = res[10000:]"
   ],
   "metadata": {
    "collapsed": false
   }
  },
  {
   "cell_type": "code",
   "execution_count": 143,
   "outputs": [
    {
     "data": {
      "text/plain": "(10000, 4)"
     },
     "execution_count": 143,
     "metadata": {},
     "output_type": "execute_result"
    }
   ],
   "source": [
    "train_res.shape"
   ],
   "metadata": {
    "collapsed": false
   }
  },
  {
   "cell_type": "code",
   "execution_count": 144,
   "outputs": [],
   "source": [
    "intc = newdata['intc']"
   ],
   "metadata": {
    "collapsed": false
   }
  },
  {
   "cell_type": "code",
   "execution_count": 147,
   "outputs": [],
   "source": [
    "train_intc = newdata[:10000]\n",
    "test_intc = newdata[10000:]"
   ],
   "metadata": {
    "collapsed": false
   }
  },
  {
   "cell_type": "code",
   "execution_count": 148,
   "outputs": [
    {
     "data": {
      "text/plain": "numpy.int64"
     },
     "execution_count": 148,
     "metadata": {},
     "output_type": "execute_result"
    }
   ],
   "source": [
    "type(train_time[1])"
   ],
   "metadata": {
    "collapsed": false
   }
  },
  {
   "cell_type": "code",
   "execution_count": 149,
   "outputs": [
    {
     "name": "stdout",
     "output_type": "stream",
     "text": [
      "Epoch 1/30\n"
     ]
    },
    {
     "ename": "TypeError",
     "evalue": "in user code:\n\n    File \"C:\\Users\\Dhruv_fefar\\PycharmProjects\\nifty\\venv\\lib\\site-packages\\keras\\engine\\training.py\", line 1284, in train_function  *\n        return step_function(self, iterator)\n    File \"C:\\Users\\Dhruv_fefar\\PycharmProjects\\nifty\\venv\\lib\\site-packages\\keras\\engine\\training.py\", line 1268, in step_function  **\n        outputs = model.distribute_strategy.run(run_step, args=(data,))\n    File \"C:\\Users\\Dhruv_fefar\\PycharmProjects\\nifty\\venv\\lib\\site-packages\\keras\\engine\\training.py\", line 1249, in run_step  **\n        outputs = model.train_step(data)\n    File \"C:\\Users\\Dhruv_fefar\\PycharmProjects\\nifty\\venv\\lib\\site-packages\\keras\\engine\\training.py\", line 1051, in train_step\n        loss = self.compute_loss(x, y, y_pred, sample_weight)\n    File \"C:\\Users\\Dhruv_fefar\\PycharmProjects\\nifty\\venv\\lib\\site-packages\\keras\\engine\\training.py\", line 1109, in compute_loss\n        return self.compiled_loss(\n    File \"C:\\Users\\Dhruv_fefar\\PycharmProjects\\nifty\\venv\\lib\\site-packages\\keras\\engine\\compile_utils.py\", line 265, in __call__\n        loss_value = loss_obj(y_t, y_p, sample_weight=sw)\n    File \"C:\\Users\\Dhruv_fefar\\PycharmProjects\\nifty\\venv\\lib\\site-packages\\keras\\losses.py\", line 160, in __call__\n        return losses_utils.compute_weighted_loss(\n    File \"C:\\Users\\Dhruv_fefar\\PycharmProjects\\nifty\\venv\\lib\\site-packages\\keras\\utils\\losses_utils.py\", line 328, in compute_weighted_loss\n        losses = tf.convert_to_tensor(losses)\n\n    TypeError: Failed to convert elements of <keras.losses.CategoricalCrossentropy object at 0x000001D8F046E880> to Tensor. Consider casting elements to a supported type. See https://www.tensorflow.org/api_docs/python/tf/dtypes for supported TF dtypes.\n",
     "output_type": "error",
     "traceback": [
      "\u001B[1;31m---------------------------------------------------------------------------\u001B[0m",
      "\u001B[1;31mTypeError\u001B[0m                                 Traceback (most recent call last)",
      "Cell \u001B[1;32mIn[149], line 12\u001B[0m\n\u001B[0;32m      1\u001B[0m model_1 \u001B[38;5;241m=\u001B[39m tf\u001B[38;5;241m.\u001B[39mkeras\u001B[38;5;241m.\u001B[39mSequential(\n\u001B[0;32m      2\u001B[0m     [\n\u001B[0;32m      3\u001B[0m         tf\u001B[38;5;241m.\u001B[39mkeras\u001B[38;5;241m.\u001B[39mlayers\u001B[38;5;241m.\u001B[39mDense(\u001B[38;5;241m10\u001B[39m ,activation\u001B[38;5;241m=\u001B[39mtf\u001B[38;5;241m.\u001B[39mkeras\u001B[38;5;241m.\u001B[39mactivations\u001B[38;5;241m.\u001B[39mrelu),\n\u001B[1;32m   (...)\u001B[0m\n\u001B[0;32m      7\u001B[0m     ]\n\u001B[0;32m      8\u001B[0m )\n\u001B[0;32m      9\u001B[0m model_1\u001B[38;5;241m.\u001B[39mcompile(loss\u001B[38;5;241m=\u001B[39m tf\u001B[38;5;241m.\u001B[39mkeras\u001B[38;5;241m.\u001B[39mlosses\u001B[38;5;241m.\u001B[39mCategoricalCrossentropy,\n\u001B[0;32m     10\u001B[0m                 optimizer\u001B[38;5;241m=\u001B[39mtf\u001B[38;5;241m.\u001B[39mkeras\u001B[38;5;241m.\u001B[39moptimizers\u001B[38;5;241m.\u001B[39mAdam(),\n\u001B[0;32m     11\u001B[0m                  metrics\u001B[38;5;241m=\u001B[39m[\u001B[38;5;124m\"\u001B[39m\u001B[38;5;124maccuracy\u001B[39m\u001B[38;5;124m\"\u001B[39m])\n\u001B[1;32m---> 12\u001B[0m non_norm_history \u001B[38;5;241m=\u001B[39m \u001B[43mmodel_1\u001B[49m\u001B[38;5;241;43m.\u001B[39;49m\u001B[43mfit\u001B[49m\u001B[43m(\u001B[49m\u001B[43mtrain_time\u001B[49m\u001B[43m,\u001B[49m\n\u001B[0;32m     13\u001B[0m \u001B[43m                                \u001B[49m\u001B[43mtrain_intc\u001B[49m\u001B[43m,\u001B[49m\n\u001B[0;32m     14\u001B[0m \u001B[43m                                \u001B[49m\u001B[43mepochs\u001B[49m\u001B[38;5;241;43m=\u001B[39;49m\u001B[38;5;241;43m30\u001B[39;49m\u001B[43m)\u001B[49m\n",
      "File \u001B[1;32m~\\PycharmProjects\\nifty\\venv\\lib\\site-packages\\keras\\utils\\traceback_utils.py:70\u001B[0m, in \u001B[0;36mfilter_traceback.<locals>.error_handler\u001B[1;34m(*args, **kwargs)\u001B[0m\n\u001B[0;32m     67\u001B[0m     filtered_tb \u001B[38;5;241m=\u001B[39m _process_traceback_frames(e\u001B[38;5;241m.\u001B[39m__traceback__)\n\u001B[0;32m     68\u001B[0m     \u001B[38;5;66;03m# To get the full stack trace, call:\u001B[39;00m\n\u001B[0;32m     69\u001B[0m     \u001B[38;5;66;03m# `tf.debugging.disable_traceback_filtering()`\u001B[39;00m\n\u001B[1;32m---> 70\u001B[0m     \u001B[38;5;28;01mraise\u001B[39;00m e\u001B[38;5;241m.\u001B[39mwith_traceback(filtered_tb) \u001B[38;5;28;01mfrom\u001B[39;00m \u001B[38;5;28;01mNone\u001B[39;00m\n\u001B[0;32m     71\u001B[0m \u001B[38;5;28;01mfinally\u001B[39;00m:\n\u001B[0;32m     72\u001B[0m     \u001B[38;5;28;01mdel\u001B[39;00m filtered_tb\n",
      "File \u001B[1;32mC:\\Users\\DHRUV_~1\\AppData\\Local\\Temp\\__autograph_generated_filel8m2kny1.py:15\u001B[0m, in \u001B[0;36mouter_factory.<locals>.inner_factory.<locals>.tf__train_function\u001B[1;34m(iterator)\u001B[0m\n\u001B[0;32m     13\u001B[0m \u001B[38;5;28;01mtry\u001B[39;00m:\n\u001B[0;32m     14\u001B[0m     do_return \u001B[38;5;241m=\u001B[39m \u001B[38;5;28;01mTrue\u001B[39;00m\n\u001B[1;32m---> 15\u001B[0m     retval_ \u001B[38;5;241m=\u001B[39m ag__\u001B[38;5;241m.\u001B[39mconverted_call(ag__\u001B[38;5;241m.\u001B[39mld(step_function), (ag__\u001B[38;5;241m.\u001B[39mld(\u001B[38;5;28mself\u001B[39m), ag__\u001B[38;5;241m.\u001B[39mld(iterator)), \u001B[38;5;28;01mNone\u001B[39;00m, fscope)\n\u001B[0;32m     16\u001B[0m \u001B[38;5;28;01mexcept\u001B[39;00m:\n\u001B[0;32m     17\u001B[0m     do_return \u001B[38;5;241m=\u001B[39m \u001B[38;5;28;01mFalse\u001B[39;00m\n",
      "\u001B[1;31mTypeError\u001B[0m: in user code:\n\n    File \"C:\\Users\\Dhruv_fefar\\PycharmProjects\\nifty\\venv\\lib\\site-packages\\keras\\engine\\training.py\", line 1284, in train_function  *\n        return step_function(self, iterator)\n    File \"C:\\Users\\Dhruv_fefar\\PycharmProjects\\nifty\\venv\\lib\\site-packages\\keras\\engine\\training.py\", line 1268, in step_function  **\n        outputs = model.distribute_strategy.run(run_step, args=(data,))\n    File \"C:\\Users\\Dhruv_fefar\\PycharmProjects\\nifty\\venv\\lib\\site-packages\\keras\\engine\\training.py\", line 1249, in run_step  **\n        outputs = model.train_step(data)\n    File \"C:\\Users\\Dhruv_fefar\\PycharmProjects\\nifty\\venv\\lib\\site-packages\\keras\\engine\\training.py\", line 1051, in train_step\n        loss = self.compute_loss(x, y, y_pred, sample_weight)\n    File \"C:\\Users\\Dhruv_fefar\\PycharmProjects\\nifty\\venv\\lib\\site-packages\\keras\\engine\\training.py\", line 1109, in compute_loss\n        return self.compiled_loss(\n    File \"C:\\Users\\Dhruv_fefar\\PycharmProjects\\nifty\\venv\\lib\\site-packages\\keras\\engine\\compile_utils.py\", line 265, in __call__\n        loss_value = loss_obj(y_t, y_p, sample_weight=sw)\n    File \"C:\\Users\\Dhruv_fefar\\PycharmProjects\\nifty\\venv\\lib\\site-packages\\keras\\losses.py\", line 160, in __call__\n        return losses_utils.compute_weighted_loss(\n    File \"C:\\Users\\Dhruv_fefar\\PycharmProjects\\nifty\\venv\\lib\\site-packages\\keras\\utils\\losses_utils.py\", line 328, in compute_weighted_loss\n        losses = tf.convert_to_tensor(losses)\n\n    TypeError: Failed to convert elements of <keras.losses.CategoricalCrossentropy object at 0x000001D8F046E880> to Tensor. Consider casting elements to a supported type. See https://www.tensorflow.org/api_docs/python/tf/dtypes for supported TF dtypes.\n"
     ]
    }
   ],
   "source": [
    "model_1 = tf.keras.Sequential(\n",
    "    [\n",
    "        tf.keras.layers.Dense(10 ,activation=tf.keras.activations.relu),\n",
    "        tf.keras.layers.Dense(4 ,activation=tf.keras.activations.relu),\n",
    "        tf.keras.layers.Dense(1 ,activation=tf.keras.activations.softmax)\n",
    "\n",
    "    ]\n",
    ")\n",
    "model_1.compile(loss= tf.keras.losses.CategoricalCrossentropy,\n",
    "                optimizer=tf.keras.optimizers.Adam(),\n",
    "                 metrics=[\"accuracy\"])\n",
    "non_norm_history = model_1.fit(train_time,\n",
    "                                train_intc,\n",
    "                                epochs=30)"
   ],
   "metadata": {
    "collapsed": false
   }
  },
  {
   "cell_type": "code",
   "execution_count": 119,
   "outputs": [
    {
     "data": {
      "text/plain": "(10000, 5)"
     },
     "execution_count": 119,
     "metadata": {},
     "output_type": "execute_result"
    }
   ],
   "source": [],
   "metadata": {
    "collapsed": false
   }
  },
  {
   "cell_type": "code",
   "execution_count": null,
   "outputs": [],
   "source": [],
   "metadata": {
    "collapsed": false
   }
  }
 ],
 "metadata": {
  "kernelspec": {
   "display_name": "Python 3",
   "language": "python",
   "name": "python3"
  },
  "language_info": {
   "codemirror_mode": {
    "name": "ipython",
    "version": 2
   },
   "file_extension": ".py",
   "mimetype": "text/x-python",
   "name": "python",
   "nbconvert_exporter": "python",
   "pygments_lexer": "ipython2",
   "version": "2.7.6"
  }
 },
 "nbformat": 4,
 "nbformat_minor": 0
}
